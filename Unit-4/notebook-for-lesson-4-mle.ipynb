{
 "cells": [
  {
   "cell_type": "markdown",
   "id": "b67ba212",
   "metadata": {
    "papermill": {
     "duration": 0.071173,
     "end_time": "2021-09-30T07:19:51.691798",
     "exception": false,
     "start_time": "2021-09-30T07:19:51.620625",
     "status": "completed"
    },
    "tags": []
   },
   "source": [
    "# 4. Evaluation Metrics for Classification\n",
    "\n",
    "In the previous session we trained a model for predicting churn. How do we know if it's good?\n",
    "\n",
    "\n",
    "## 4.1 Evaluation metrics: session overview \n",
    "\n",
    "* Dataset: https://www.kaggle.com/blastchar/telco-customer-churn\n",
    "* https://raw.githubusercontent.com/alexeygrigorev/mlbookcamp-code/master/chapter-03-churn-prediction/WA_Fn-UseC_-Telco-Customer-Churn.csv\n",
    "\n",
    "\n",
    "*Metric* - function that compares the predictions with the actual values and outputs a single number that tells how good the predictions are"
   ]
  },
  {
   "cell_type": "code",
   "execution_count": 70,
   "id": "98ad1a6e",
   "metadata": {
    "execution": {
     "iopub.execute_input": "2021-09-30T07:19:51.859981Z",
     "iopub.status.busy": "2021-09-30T07:19:51.858706Z",
     "iopub.status.idle": "2021-09-30T07:19:51.869325Z",
     "shell.execute_reply": "2021-09-30T07:19:51.869905Z",
     "shell.execute_reply.started": "2021-09-30T02:48:13.113358Z"
    },
    "papermill": {
     "duration": 0.10128,
     "end_time": "2021-09-30T07:19:51.870192",
     "exception": false,
     "start_time": "2021-09-30T07:19:51.768912",
     "status": "completed"
    },
    "tags": []
   },
   "outputs": [],
   "source": [
    "import pandas as pd\n",
    "import numpy as np\n",
    "import wget\n",
    "\n",
    "import matplotlib.pyplot as plt"
   ]
  },
  {
   "cell_type": "code",
   "execution_count": 71,
   "id": "32d68912",
   "metadata": {
    "execution": {
     "iopub.execute_input": "2021-09-30T07:19:52.021244Z",
     "iopub.status.busy": "2021-09-30T07:19:52.020559Z",
     "iopub.status.idle": "2021-09-30T07:19:52.961728Z",
     "shell.execute_reply": "2021-09-30T07:19:52.961050Z",
     "shell.execute_reply.started": "2021-09-30T02:48:13.140151Z"
    },
    "papermill": {
     "duration": 1.021614,
     "end_time": "2021-09-30T07:19:52.961905",
     "exception": false,
     "start_time": "2021-09-30T07:19:51.940291",
     "status": "completed"
    },
    "tags": []
   },
   "outputs": [],
   "source": [
    "from sklearn.model_selection import train_test_split\n",
    "from sklearn.feature_extraction import DictVectorizer\n",
    "from sklearn.linear_model import LogisticRegression"
   ]
  },
  {
   "cell_type": "code",
   "execution_count": 72,
   "id": "ce7d5bd8",
   "metadata": {
    "execution": {
     "iopub.execute_input": "2021-09-30T07:19:53.098771Z",
     "iopub.status.busy": "2021-09-30T07:19:53.098178Z",
     "iopub.status.idle": "2021-09-30T07:19:53.101980Z",
     "shell.execute_reply": "2021-09-30T07:19:53.102551Z",
     "shell.execute_reply.started": "2021-09-30T02:48:14.145631Z"
    },
    "papermill": {
     "duration": 0.073978,
     "end_time": "2021-09-30T07:19:53.102716",
     "exception": false,
     "start_time": "2021-09-30T07:19:53.028738",
     "status": "completed"
    },
    "tags": []
   },
   "outputs": [],
   "source": [
    "data = wget.download('https://raw.githubusercontent.com/alexeygrigorev/mlbookcamp-code/master/chapter-03-churn-prediction/WA_Fn-UseC_-Telco-Customer-Churn.csv')"
   ]
  },
  {
   "cell_type": "code",
   "execution_count": 73,
   "id": "2d70b7e7",
   "metadata": {
    "execution": {
     "iopub.execute_input": "2021-09-30T07:19:54.531355Z",
     "iopub.status.busy": "2021-09-30T07:19:54.530632Z",
     "iopub.status.idle": "2021-09-30T07:19:54.767968Z",
     "shell.execute_reply": "2021-09-30T07:19:54.766895Z",
     "shell.execute_reply.started": "2021-09-30T02:48:15.190463Z"
    },
    "papermill": {
     "duration": 0.319231,
     "end_time": "2021-09-30T07:19:54.768192",
     "exception": false,
     "start_time": "2021-09-30T07:19:54.448961",
     "status": "completed"
    },
    "tags": []
   },
   "outputs": [],
   "source": [
    "df = pd.read_csv('WA_Fn-UseC_-Telco-Customer-Churn.csv')\n",
    "\n",
    "df.columns = df.columns.str.lower().str.replace(' ', '_')\n",
    "\n",
    "categorical_columns = list(df.dtypes[df.dtypes == 'object'].index)\n",
    "\n",
    "for c in categorical_columns:\n",
    "    df[c] = df[c].str.lower().str.replace(' ', '_')\n",
    "\n",
    "df.totalcharges = pd.to_numeric(df.totalcharges, errors='coerce')\n",
    "df.totalcharges = df.totalcharges.fillna(0)\n",
    "\n",
    "df.churn = (df.churn == 'yes').astype(int)"
   ]
  },
  {
   "cell_type": "code",
   "execution_count": 74,
   "id": "f6a67366",
   "metadata": {
    "execution": {
     "iopub.execute_input": "2021-09-30T07:19:54.933445Z",
     "iopub.status.busy": "2021-09-30T07:19:54.932659Z",
     "iopub.status.idle": "2021-09-30T07:19:54.967194Z",
     "shell.execute_reply": "2021-09-30T07:19:54.968066Z",
     "shell.execute_reply.started": "2021-09-30T02:48:15.46674Z"
    },
    "papermill": {
     "duration": 0.114356,
     "end_time": "2021-09-30T07:19:54.968314",
     "exception": false,
     "start_time": "2021-09-30T07:19:54.853958",
     "status": "completed"
    },
    "tags": []
   },
   "outputs": [],
   "source": [
    "df_full_train, df_test = train_test_split(df, test_size=0.2, random_state=1)\n",
    "df_train, df_val = train_test_split(df_full_train, test_size=0.25, random_state=1)\n",
    "\n",
    "df_train = df_train.reset_index(drop=True)\n",
    "df_val = df_val.reset_index(drop=True)\n",
    "df_test = df_test.reset_index(drop=True)\n",
    "\n",
    "y_train = df_train.churn.values\n",
    "y_val = df_val.churn.values\n",
    "y_test = df_test.churn.values\n",
    "\n",
    "del df_train['churn']\n",
    "del df_val['churn']\n",
    "del df_test['churn']"
   ]
  },
  {
   "cell_type": "code",
   "execution_count": 75,
   "id": "57a37a47",
   "metadata": {
    "execution": {
     "iopub.execute_input": "2021-09-30T07:19:55.122967Z",
     "iopub.status.busy": "2021-09-30T07:19:55.121955Z",
     "iopub.status.idle": "2021-09-30T07:19:55.123962Z",
     "shell.execute_reply": "2021-09-30T07:19:55.124704Z",
     "shell.execute_reply.started": "2021-09-30T02:48:15.497534Z"
    },
    "papermill": {
     "duration": 0.082161,
     "end_time": "2021-09-30T07:19:55.124971",
     "exception": false,
     "start_time": "2021-09-30T07:19:55.042810",
     "status": "completed"
    },
    "tags": []
   },
   "outputs": [],
   "source": [
    "numerical = ['tenure', 'monthlycharges', 'totalcharges']\n",
    "\n",
    "categorical = [\n",
    "    'gender',\n",
    "    'seniorcitizen',\n",
    "    'partner',\n",
    "    'dependents',\n",
    "    'phoneservice',\n",
    "    'multiplelines',\n",
    "    'internetservice',\n",
    "    'onlinesecurity',\n",
    "    'onlinebackup',\n",
    "    'deviceprotection',\n",
    "    'techsupport',\n",
    "    'streamingtv',\n",
    "    'streamingmovies',\n",
    "    'contract',\n",
    "    'paperlessbilling',\n",
    "    'paymentmethod',\n",
    "]"
   ]
  },
  {
   "cell_type": "code",
   "execution_count": 76,
   "id": "64e5417f",
   "metadata": {
    "execution": {
     "iopub.execute_input": "2021-09-30T07:19:55.276238Z",
     "iopub.status.busy": "2021-09-30T07:19:55.275457Z",
     "iopub.status.idle": "2021-09-30T07:19:55.687402Z",
     "shell.execute_reply": "2021-09-30T07:19:55.688720Z",
     "shell.execute_reply.started": "2021-09-30T02:48:15.505271Z"
    },
    "papermill": {
     "duration": 0.490279,
     "end_time": "2021-09-30T07:19:55.688999",
     "exception": false,
     "start_time": "2021-09-30T07:19:55.198720",
     "status": "completed"
    },
    "tags": []
   },
   "outputs": [
    {
     "name": "stderr",
     "output_type": "stream",
     "text": [
      "c:\\Users\\begon\\AppData\\Local\\Programs\\Python\\Python310\\lib\\site-packages\\sklearn\\linear_model\\_logistic.py:469: ConvergenceWarning: lbfgs failed to converge (status=1):\n",
      "STOP: TOTAL NO. of ITERATIONS REACHED LIMIT.\n",
      "\n",
      "Increase the number of iterations (max_iter) or scale the data as shown in:\n",
      "    https://scikit-learn.org/stable/modules/preprocessing.html\n",
      "Please also refer to the documentation for alternative solver options:\n",
      "    https://scikit-learn.org/stable/modules/linear_model.html#logistic-regression\n",
      "  n_iter_i = _check_optimize_result(\n"
     ]
    },
    {
     "data": {
      "text/html": [
       "<style>#sk-container-id-2 {\n",
       "  /* Definition of color scheme common for light and dark mode */\n",
       "  --sklearn-color-text: black;\n",
       "  --sklearn-color-line: gray;\n",
       "  /* Definition of color scheme for unfitted estimators */\n",
       "  --sklearn-color-unfitted-level-0: #fff5e6;\n",
       "  --sklearn-color-unfitted-level-1: #f6e4d2;\n",
       "  --sklearn-color-unfitted-level-2: #ffe0b3;\n",
       "  --sklearn-color-unfitted-level-3: chocolate;\n",
       "  /* Definition of color scheme for fitted estimators */\n",
       "  --sklearn-color-fitted-level-0: #f0f8ff;\n",
       "  --sklearn-color-fitted-level-1: #d4ebff;\n",
       "  --sklearn-color-fitted-level-2: #b3dbfd;\n",
       "  --sklearn-color-fitted-level-3: cornflowerblue;\n",
       "\n",
       "  /* Specific color for light theme */\n",
       "  --sklearn-color-text-on-default-background: var(--sg-text-color, var(--theme-code-foreground, var(--jp-content-font-color1, black)));\n",
       "  --sklearn-color-background: var(--sg-background-color, var(--theme-background, var(--jp-layout-color0, white)));\n",
       "  --sklearn-color-border-box: var(--sg-text-color, var(--theme-code-foreground, var(--jp-content-font-color1, black)));\n",
       "  --sklearn-color-icon: #696969;\n",
       "\n",
       "  @media (prefers-color-scheme: dark) {\n",
       "    /* Redefinition of color scheme for dark theme */\n",
       "    --sklearn-color-text-on-default-background: var(--sg-text-color, var(--theme-code-foreground, var(--jp-content-font-color1, white)));\n",
       "    --sklearn-color-background: var(--sg-background-color, var(--theme-background, var(--jp-layout-color0, #111)));\n",
       "    --sklearn-color-border-box: var(--sg-text-color, var(--theme-code-foreground, var(--jp-content-font-color1, white)));\n",
       "    --sklearn-color-icon: #878787;\n",
       "  }\n",
       "}\n",
       "\n",
       "#sk-container-id-2 {\n",
       "  color: var(--sklearn-color-text);\n",
       "}\n",
       "\n",
       "#sk-container-id-2 pre {\n",
       "  padding: 0;\n",
       "}\n",
       "\n",
       "#sk-container-id-2 input.sk-hidden--visually {\n",
       "  border: 0;\n",
       "  clip: rect(1px 1px 1px 1px);\n",
       "  clip: rect(1px, 1px, 1px, 1px);\n",
       "  height: 1px;\n",
       "  margin: -1px;\n",
       "  overflow: hidden;\n",
       "  padding: 0;\n",
       "  position: absolute;\n",
       "  width: 1px;\n",
       "}\n",
       "\n",
       "#sk-container-id-2 div.sk-dashed-wrapped {\n",
       "  border: 1px dashed var(--sklearn-color-line);\n",
       "  margin: 0 0.4em 0.5em 0.4em;\n",
       "  box-sizing: border-box;\n",
       "  padding-bottom: 0.4em;\n",
       "  background-color: var(--sklearn-color-background);\n",
       "}\n",
       "\n",
       "#sk-container-id-2 div.sk-container {\n",
       "  /* jupyter's `normalize.less` sets `[hidden] { display: none; }`\n",
       "     but bootstrap.min.css set `[hidden] { display: none !important; }`\n",
       "     so we also need the `!important` here to be able to override the\n",
       "     default hidden behavior on the sphinx rendered scikit-learn.org.\n",
       "     See: https://github.com/scikit-learn/scikit-learn/issues/21755 */\n",
       "  display: inline-block !important;\n",
       "  position: relative;\n",
       "}\n",
       "\n",
       "#sk-container-id-2 div.sk-text-repr-fallback {\n",
       "  display: none;\n",
       "}\n",
       "\n",
       "div.sk-parallel-item,\n",
       "div.sk-serial,\n",
       "div.sk-item {\n",
       "  /* draw centered vertical line to link estimators */\n",
       "  background-image: linear-gradient(var(--sklearn-color-text-on-default-background), var(--sklearn-color-text-on-default-background));\n",
       "  background-size: 2px 100%;\n",
       "  background-repeat: no-repeat;\n",
       "  background-position: center center;\n",
       "}\n",
       "\n",
       "/* Parallel-specific style estimator block */\n",
       "\n",
       "#sk-container-id-2 div.sk-parallel-item::after {\n",
       "  content: \"\";\n",
       "  width: 100%;\n",
       "  border-bottom: 2px solid var(--sklearn-color-text-on-default-background);\n",
       "  flex-grow: 1;\n",
       "}\n",
       "\n",
       "#sk-container-id-2 div.sk-parallel {\n",
       "  display: flex;\n",
       "  align-items: stretch;\n",
       "  justify-content: center;\n",
       "  background-color: var(--sklearn-color-background);\n",
       "  position: relative;\n",
       "}\n",
       "\n",
       "#sk-container-id-2 div.sk-parallel-item {\n",
       "  display: flex;\n",
       "  flex-direction: column;\n",
       "}\n",
       "\n",
       "#sk-container-id-2 div.sk-parallel-item:first-child::after {\n",
       "  align-self: flex-end;\n",
       "  width: 50%;\n",
       "}\n",
       "\n",
       "#sk-container-id-2 div.sk-parallel-item:last-child::after {\n",
       "  align-self: flex-start;\n",
       "  width: 50%;\n",
       "}\n",
       "\n",
       "#sk-container-id-2 div.sk-parallel-item:only-child::after {\n",
       "  width: 0;\n",
       "}\n",
       "\n",
       "/* Serial-specific style estimator block */\n",
       "\n",
       "#sk-container-id-2 div.sk-serial {\n",
       "  display: flex;\n",
       "  flex-direction: column;\n",
       "  align-items: center;\n",
       "  background-color: var(--sklearn-color-background);\n",
       "  padding-right: 1em;\n",
       "  padding-left: 1em;\n",
       "}\n",
       "\n",
       "\n",
       "/* Toggleable style: style used for estimator/Pipeline/ColumnTransformer box that is\n",
       "clickable and can be expanded/collapsed.\n",
       "- Pipeline and ColumnTransformer use this feature and define the default style\n",
       "- Estimators will overwrite some part of the style using the `sk-estimator` class\n",
       "*/\n",
       "\n",
       "/* Pipeline and ColumnTransformer style (default) */\n",
       "\n",
       "#sk-container-id-2 div.sk-toggleable {\n",
       "  /* Default theme specific background. It is overwritten whether we have a\n",
       "  specific estimator or a Pipeline/ColumnTransformer */\n",
       "  background-color: var(--sklearn-color-background);\n",
       "}\n",
       "\n",
       "/* Toggleable label */\n",
       "#sk-container-id-2 label.sk-toggleable__label {\n",
       "  cursor: pointer;\n",
       "  display: block;\n",
       "  width: 100%;\n",
       "  margin-bottom: 0;\n",
       "  padding: 0.5em;\n",
       "  box-sizing: border-box;\n",
       "  text-align: center;\n",
       "}\n",
       "\n",
       "#sk-container-id-2 label.sk-toggleable__label-arrow:before {\n",
       "  /* Arrow on the left of the label */\n",
       "  content: \"▸\";\n",
       "  float: left;\n",
       "  margin-right: 0.25em;\n",
       "  color: var(--sklearn-color-icon);\n",
       "}\n",
       "\n",
       "#sk-container-id-2 label.sk-toggleable__label-arrow:hover:before {\n",
       "  color: var(--sklearn-color-text);\n",
       "}\n",
       "\n",
       "/* Toggleable content - dropdown */\n",
       "\n",
       "#sk-container-id-2 div.sk-toggleable__content {\n",
       "  max-height: 0;\n",
       "  max-width: 0;\n",
       "  overflow: hidden;\n",
       "  text-align: left;\n",
       "  /* unfitted */\n",
       "  background-color: var(--sklearn-color-unfitted-level-0);\n",
       "}\n",
       "\n",
       "#sk-container-id-2 div.sk-toggleable__content.fitted {\n",
       "  /* fitted */\n",
       "  background-color: var(--sklearn-color-fitted-level-0);\n",
       "}\n",
       "\n",
       "#sk-container-id-2 div.sk-toggleable__content pre {\n",
       "  margin: 0.2em;\n",
       "  border-radius: 0.25em;\n",
       "  color: var(--sklearn-color-text);\n",
       "  /* unfitted */\n",
       "  background-color: var(--sklearn-color-unfitted-level-0);\n",
       "}\n",
       "\n",
       "#sk-container-id-2 div.sk-toggleable__content.fitted pre {\n",
       "  /* unfitted */\n",
       "  background-color: var(--sklearn-color-fitted-level-0);\n",
       "}\n",
       "\n",
       "#sk-container-id-2 input.sk-toggleable__control:checked~div.sk-toggleable__content {\n",
       "  /* Expand drop-down */\n",
       "  max-height: 200px;\n",
       "  max-width: 100%;\n",
       "  overflow: auto;\n",
       "}\n",
       "\n",
       "#sk-container-id-2 input.sk-toggleable__control:checked~label.sk-toggleable__label-arrow:before {\n",
       "  content: \"▾\";\n",
       "}\n",
       "\n",
       "/* Pipeline/ColumnTransformer-specific style */\n",
       "\n",
       "#sk-container-id-2 div.sk-label input.sk-toggleable__control:checked~label.sk-toggleable__label {\n",
       "  color: var(--sklearn-color-text);\n",
       "  background-color: var(--sklearn-color-unfitted-level-2);\n",
       "}\n",
       "\n",
       "#sk-container-id-2 div.sk-label.fitted input.sk-toggleable__control:checked~label.sk-toggleable__label {\n",
       "  background-color: var(--sklearn-color-fitted-level-2);\n",
       "}\n",
       "\n",
       "/* Estimator-specific style */\n",
       "\n",
       "/* Colorize estimator box */\n",
       "#sk-container-id-2 div.sk-estimator input.sk-toggleable__control:checked~label.sk-toggleable__label {\n",
       "  /* unfitted */\n",
       "  background-color: var(--sklearn-color-unfitted-level-2);\n",
       "}\n",
       "\n",
       "#sk-container-id-2 div.sk-estimator.fitted input.sk-toggleable__control:checked~label.sk-toggleable__label {\n",
       "  /* fitted */\n",
       "  background-color: var(--sklearn-color-fitted-level-2);\n",
       "}\n",
       "\n",
       "#sk-container-id-2 div.sk-label label.sk-toggleable__label,\n",
       "#sk-container-id-2 div.sk-label label {\n",
       "  /* The background is the default theme color */\n",
       "  color: var(--sklearn-color-text-on-default-background);\n",
       "}\n",
       "\n",
       "/* On hover, darken the color of the background */\n",
       "#sk-container-id-2 div.sk-label:hover label.sk-toggleable__label {\n",
       "  color: var(--sklearn-color-text);\n",
       "  background-color: var(--sklearn-color-unfitted-level-2);\n",
       "}\n",
       "\n",
       "/* Label box, darken color on hover, fitted */\n",
       "#sk-container-id-2 div.sk-label.fitted:hover label.sk-toggleable__label.fitted {\n",
       "  color: var(--sklearn-color-text);\n",
       "  background-color: var(--sklearn-color-fitted-level-2);\n",
       "}\n",
       "\n",
       "/* Estimator label */\n",
       "\n",
       "#sk-container-id-2 div.sk-label label {\n",
       "  font-family: monospace;\n",
       "  font-weight: bold;\n",
       "  display: inline-block;\n",
       "  line-height: 1.2em;\n",
       "}\n",
       "\n",
       "#sk-container-id-2 div.sk-label-container {\n",
       "  text-align: center;\n",
       "}\n",
       "\n",
       "/* Estimator-specific */\n",
       "#sk-container-id-2 div.sk-estimator {\n",
       "  font-family: monospace;\n",
       "  border: 1px dotted var(--sklearn-color-border-box);\n",
       "  border-radius: 0.25em;\n",
       "  box-sizing: border-box;\n",
       "  margin-bottom: 0.5em;\n",
       "  /* unfitted */\n",
       "  background-color: var(--sklearn-color-unfitted-level-0);\n",
       "}\n",
       "\n",
       "#sk-container-id-2 div.sk-estimator.fitted {\n",
       "  /* fitted */\n",
       "  background-color: var(--sklearn-color-fitted-level-0);\n",
       "}\n",
       "\n",
       "/* on hover */\n",
       "#sk-container-id-2 div.sk-estimator:hover {\n",
       "  /* unfitted */\n",
       "  background-color: var(--sklearn-color-unfitted-level-2);\n",
       "}\n",
       "\n",
       "#sk-container-id-2 div.sk-estimator.fitted:hover {\n",
       "  /* fitted */\n",
       "  background-color: var(--sklearn-color-fitted-level-2);\n",
       "}\n",
       "\n",
       "/* Specification for estimator info (e.g. \"i\" and \"?\") */\n",
       "\n",
       "/* Common style for \"i\" and \"?\" */\n",
       "\n",
       ".sk-estimator-doc-link,\n",
       "a:link.sk-estimator-doc-link,\n",
       "a:visited.sk-estimator-doc-link {\n",
       "  float: right;\n",
       "  font-size: smaller;\n",
       "  line-height: 1em;\n",
       "  font-family: monospace;\n",
       "  background-color: var(--sklearn-color-background);\n",
       "  border-radius: 1em;\n",
       "  height: 1em;\n",
       "  width: 1em;\n",
       "  text-decoration: none !important;\n",
       "  margin-left: 1ex;\n",
       "  /* unfitted */\n",
       "  border: var(--sklearn-color-unfitted-level-1) 1pt solid;\n",
       "  color: var(--sklearn-color-unfitted-level-1);\n",
       "}\n",
       "\n",
       ".sk-estimator-doc-link.fitted,\n",
       "a:link.sk-estimator-doc-link.fitted,\n",
       "a:visited.sk-estimator-doc-link.fitted {\n",
       "  /* fitted */\n",
       "  border: var(--sklearn-color-fitted-level-1) 1pt solid;\n",
       "  color: var(--sklearn-color-fitted-level-1);\n",
       "}\n",
       "\n",
       "/* On hover */\n",
       "div.sk-estimator:hover .sk-estimator-doc-link:hover,\n",
       ".sk-estimator-doc-link:hover,\n",
       "div.sk-label-container:hover .sk-estimator-doc-link:hover,\n",
       ".sk-estimator-doc-link:hover {\n",
       "  /* unfitted */\n",
       "  background-color: var(--sklearn-color-unfitted-level-3);\n",
       "  color: var(--sklearn-color-background);\n",
       "  text-decoration: none;\n",
       "}\n",
       "\n",
       "div.sk-estimator.fitted:hover .sk-estimator-doc-link.fitted:hover,\n",
       ".sk-estimator-doc-link.fitted:hover,\n",
       "div.sk-label-container:hover .sk-estimator-doc-link.fitted:hover,\n",
       ".sk-estimator-doc-link.fitted:hover {\n",
       "  /* fitted */\n",
       "  background-color: var(--sklearn-color-fitted-level-3);\n",
       "  color: var(--sklearn-color-background);\n",
       "  text-decoration: none;\n",
       "}\n",
       "\n",
       "/* Span, style for the box shown on hovering the info icon */\n",
       ".sk-estimator-doc-link span {\n",
       "  display: none;\n",
       "  z-index: 9999;\n",
       "  position: relative;\n",
       "  font-weight: normal;\n",
       "  right: .2ex;\n",
       "  padding: .5ex;\n",
       "  margin: .5ex;\n",
       "  width: min-content;\n",
       "  min-width: 20ex;\n",
       "  max-width: 50ex;\n",
       "  color: var(--sklearn-color-text);\n",
       "  box-shadow: 2pt 2pt 4pt #999;\n",
       "  /* unfitted */\n",
       "  background: var(--sklearn-color-unfitted-level-0);\n",
       "  border: .5pt solid var(--sklearn-color-unfitted-level-3);\n",
       "}\n",
       "\n",
       ".sk-estimator-doc-link.fitted span {\n",
       "  /* fitted */\n",
       "  background: var(--sklearn-color-fitted-level-0);\n",
       "  border: var(--sklearn-color-fitted-level-3);\n",
       "}\n",
       "\n",
       ".sk-estimator-doc-link:hover span {\n",
       "  display: block;\n",
       "}\n",
       "\n",
       "/* \"?\"-specific style due to the `<a>` HTML tag */\n",
       "\n",
       "#sk-container-id-2 a.estimator_doc_link {\n",
       "  float: right;\n",
       "  font-size: 1rem;\n",
       "  line-height: 1em;\n",
       "  font-family: monospace;\n",
       "  background-color: var(--sklearn-color-background);\n",
       "  border-radius: 1rem;\n",
       "  height: 1rem;\n",
       "  width: 1rem;\n",
       "  text-decoration: none;\n",
       "  /* unfitted */\n",
       "  color: var(--sklearn-color-unfitted-level-1);\n",
       "  border: var(--sklearn-color-unfitted-level-1) 1pt solid;\n",
       "}\n",
       "\n",
       "#sk-container-id-2 a.estimator_doc_link.fitted {\n",
       "  /* fitted */\n",
       "  border: var(--sklearn-color-fitted-level-1) 1pt solid;\n",
       "  color: var(--sklearn-color-fitted-level-1);\n",
       "}\n",
       "\n",
       "/* On hover */\n",
       "#sk-container-id-2 a.estimator_doc_link:hover {\n",
       "  /* unfitted */\n",
       "  background-color: var(--sklearn-color-unfitted-level-3);\n",
       "  color: var(--sklearn-color-background);\n",
       "  text-decoration: none;\n",
       "}\n",
       "\n",
       "#sk-container-id-2 a.estimator_doc_link.fitted:hover {\n",
       "  /* fitted */\n",
       "  background-color: var(--sklearn-color-fitted-level-3);\n",
       "}\n",
       "</style><div id=\"sk-container-id-2\" class=\"sk-top-container\"><div class=\"sk-text-repr-fallback\"><pre>LogisticRegression()</pre><b>In a Jupyter environment, please rerun this cell to show the HTML representation or trust the notebook. <br />On GitHub, the HTML representation is unable to render, please try loading this page with nbviewer.org.</b></div><div class=\"sk-container\" hidden><div class=\"sk-item\"><div class=\"sk-estimator fitted sk-toggleable\"><input class=\"sk-toggleable__control sk-hidden--visually\" id=\"sk-estimator-id-2\" type=\"checkbox\" checked><label for=\"sk-estimator-id-2\" class=\"sk-toggleable__label fitted sk-toggleable__label-arrow fitted\">&nbsp;&nbsp;LogisticRegression<a class=\"sk-estimator-doc-link fitted\" rel=\"noreferrer\" target=\"_blank\" href=\"https://scikit-learn.org/1.5/modules/generated/sklearn.linear_model.LogisticRegression.html\">?<span>Documentation for LogisticRegression</span></a><span class=\"sk-estimator-doc-link fitted\">i<span>Fitted</span></span></label><div class=\"sk-toggleable__content fitted\"><pre>LogisticRegression()</pre></div> </div></div></div></div>"
      ],
      "text/plain": [
       "LogisticRegression()"
      ]
     },
     "execution_count": 76,
     "metadata": {},
     "output_type": "execute_result"
    }
   ],
   "source": [
    "dv = DictVectorizer(sparse=False)\n",
    "\n",
    "train_dict = df_train[categorical + numerical].to_dict(orient='records')\n",
    "X_train = dv.fit_transform(train_dict)\n",
    "\n",
    "model = LogisticRegression()\n",
    "model.fit(X_train, y_train)"
   ]
  },
  {
   "cell_type": "code",
   "execution_count": 77,
   "id": "ca09eb34",
   "metadata": {
    "execution": {
     "iopub.execute_input": "2021-09-30T07:19:55.880878Z",
     "iopub.status.busy": "2021-09-30T07:19:55.879858Z",
     "iopub.status.idle": "2021-09-30T07:19:55.960097Z",
     "shell.execute_reply": "2021-09-30T07:19:55.961158Z",
     "shell.execute_reply.started": "2021-09-30T02:48:15.950555Z"
    },
    "papermill": {
     "duration": 0.156633,
     "end_time": "2021-09-30T07:19:55.961429",
     "exception": false,
     "start_time": "2021-09-30T07:19:55.804796",
     "status": "completed"
    },
    "tags": []
   },
   "outputs": [
    {
     "data": {
      "text/plain": [
       "0.8034066713981547"
      ]
     },
     "execution_count": 77,
     "metadata": {},
     "output_type": "execute_result"
    }
   ],
   "source": [
    "val_dict = df_val[categorical + numerical].to_dict(orient='records')\n",
    "X_val = dv.transform(val_dict)\n",
    "\n",
    "y_pred = model.predict_proba(X_val)[:, 1]\n",
    "churn_decision = (y_pred >= 0.5)\n",
    "(y_val == churn_decision).mean()"
   ]
  },
  {
   "cell_type": "markdown",
   "id": "618fbd91",
   "metadata": {
    "papermill": {
     "duration": 0.068523,
     "end_time": "2021-09-30T07:19:56.150935",
     "exception": false,
     "start_time": "2021-09-30T07:19:56.082412",
     "status": "completed"
    },
    "tags": []
   },
   "source": [
    "## 4.2 Accuracy and dummy model\n",
    "\n",
    "* Evaluate the model on different thresholds\n",
    "* Check the accuracy of dummy baselines"
   ]
  },
  {
   "cell_type": "markdown",
   "id": "97bba33a",
   "metadata": {
    "papermill": {
     "duration": 0.068536,
     "end_time": "2021-09-30T07:19:56.289630",
     "exception": false,
     "start_time": "2021-09-30T07:19:56.221094",
     "status": "completed"
    },
    "tags": []
   },
   "source": [
    "## What is accuracy?\n",
    "Accuracy is basically **the number of correct predictions/number of total predictions.**\n",
    "\n",
    "e.g. 4 people are predicted not to churn, while 2 people are predicted to churn.\n",
    "\n",
    "However, in reality, 2 people that are predicted not to churn did churn, while 1 person that is predicted to churn did not churn. That would mean that out of 6, only 3 predictions were correct.\n",
    "\n",
    "Therefore, the accuracy of the model is 50%."
   ]
  },
  {
   "cell_type": "code",
   "execution_count": 78,
   "id": "b4530772",
   "metadata": {
    "execution": {
     "iopub.execute_input": "2021-09-30T07:19:56.432518Z",
     "iopub.status.busy": "2021-09-30T07:19:56.430122Z",
     "iopub.status.idle": "2021-09-30T07:19:56.435430Z",
     "shell.execute_reply": "2021-09-30T07:19:56.436014Z",
     "shell.execute_reply.started": "2021-09-30T02:48:16.087473Z"
    },
    "papermill": {
     "duration": 0.07785,
     "end_time": "2021-09-30T07:19:56.436185",
     "exception": false,
     "start_time": "2021-09-30T07:19:56.358335",
     "status": "completed"
    },
    "tags": []
   },
   "outputs": [
    {
     "data": {
      "text/plain": [
       "1409"
      ]
     },
     "execution_count": 78,
     "metadata": {},
     "output_type": "execute_result"
    }
   ],
   "source": [
    "# Total predictions\n",
    "len(y_val)"
   ]
  },
  {
   "cell_type": "code",
   "execution_count": 79,
   "id": "219144e4",
   "metadata": {
    "execution": {
     "iopub.execute_input": "2021-09-30T07:19:56.580665Z",
     "iopub.status.busy": "2021-09-30T07:19:56.579903Z",
     "iopub.status.idle": "2021-09-30T07:19:56.583023Z",
     "shell.execute_reply": "2021-09-30T07:19:56.583507Z",
     "shell.execute_reply.started": "2021-09-30T02:48:16.096093Z"
    },
    "papermill": {
     "duration": 0.078553,
     "end_time": "2021-09-30T07:19:56.583667",
     "exception": false,
     "start_time": "2021-09-30T07:19:56.505114",
     "status": "completed"
    },
    "tags": []
   },
   "outputs": [
    {
     "data": {
      "text/plain": [
       "0.8034066713981547"
      ]
     },
     "execution_count": 79,
     "metadata": {},
     "output_type": "execute_result"
    }
   ],
   "source": [
    "# Accuracy of churning\n",
    "(y_val == churn_decision).mean()"
   ]
  },
  {
   "cell_type": "code",
   "execution_count": 80,
   "id": "2f70c214",
   "metadata": {
    "execution": {
     "iopub.execute_input": "2021-09-30T07:19:56.727389Z",
     "iopub.status.busy": "2021-09-30T07:19:56.726393Z",
     "iopub.status.idle": "2021-09-30T07:19:56.731442Z",
     "shell.execute_reply": "2021-09-30T07:19:56.731893Z",
     "shell.execute_reply.started": "2021-09-30T02:48:16.111802Z"
    },
    "papermill": {
     "duration": 0.079345,
     "end_time": "2021-09-30T07:19:56.732058",
     "exception": false,
     "start_time": "2021-09-30T07:19:56.652713",
     "status": "completed"
    },
    "tags": []
   },
   "outputs": [
    {
     "data": {
      "text/plain": [
       "0.8034066713981547"
      ]
     },
     "execution_count": 80,
     "metadata": {},
     "output_type": "execute_result"
    }
   ],
   "source": [
    "# Correct predictions / total predictions \n",
    "1132/ 1409"
   ]
  },
  {
   "cell_type": "code",
   "execution_count": 81,
   "id": "e7109eb7",
   "metadata": {
    "execution": {
     "iopub.execute_input": "2021-09-30T07:19:56.876462Z",
     "iopub.status.busy": "2021-09-30T07:19:56.875802Z",
     "iopub.status.idle": "2021-09-30T07:19:56.877657Z",
     "shell.execute_reply": "2021-09-30T07:19:56.878261Z",
     "shell.execute_reply.started": "2021-09-30T02:48:16.124733Z"
    },
    "papermill": {
     "duration": 0.076084,
     "end_time": "2021-09-30T07:19:56.878423",
     "exception": false,
     "start_time": "2021-09-30T07:19:56.802339",
     "status": "completed"
    },
    "tags": []
   },
   "outputs": [],
   "source": [
    "# scikit-learn has a module for this\n",
    "from sklearn.metrics import accuracy_score"
   ]
  },
  {
   "cell_type": "code",
   "execution_count": 82,
   "id": "2566fb38",
   "metadata": {
    "execution": {
     "iopub.execute_input": "2021-09-30T07:19:57.024435Z",
     "iopub.status.busy": "2021-09-30T07:19:57.023531Z",
     "iopub.status.idle": "2021-09-30T07:19:57.028528Z",
     "shell.execute_reply": "2021-09-30T07:19:57.028022Z",
     "shell.execute_reply.started": "2021-09-30T02:48:16.138652Z"
    },
    "papermill": {
     "duration": 0.079358,
     "end_time": "2021-09-30T07:19:57.028662",
     "exception": false,
     "start_time": "2021-09-30T07:19:56.949304",
     "status": "completed"
    },
    "tags": []
   },
   "outputs": [
    {
     "data": {
      "text/plain": [
       "0.8034066713981547"
      ]
     },
     "execution_count": 82,
     "metadata": {},
     "output_type": "execute_result"
    }
   ],
   "source": [
    "accuracy_score(y_val, y_pred >= 0.5)"
   ]
  },
  {
   "cell_type": "markdown",
   "id": "c0f2c750",
   "metadata": {
    "papermill": {
     "duration": 0.070673,
     "end_time": "2021-09-30T07:19:57.170598",
     "exception": false,
     "start_time": "2021-09-30T07:19:57.099925",
     "status": "completed"
    },
    "tags": []
   },
   "source": [
    "## What are thresholds? \n",
    "Recall that in our model, we made it such that if y_pred >= 0.5, it would be counted as 1. \n",
    "However, that probability can be adjusted such that we can make stricter predictions or more lenient predictions. \n",
    "\n",
    "For example, instead of 0.5, we can make it such that anything from 0.3 onwards would be counted as 1, or anything from 0.74 would be counted as 1. "
   ]
  },
  {
   "cell_type": "code",
   "execution_count": 83,
   "id": "7da49b98",
   "metadata": {
    "execution": {
     "iopub.execute_input": "2021-09-30T07:19:57.318732Z",
     "iopub.status.busy": "2021-09-30T07:19:57.317685Z",
     "iopub.status.idle": "2021-09-30T07:19:57.331754Z",
     "shell.execute_reply": "2021-09-30T07:19:57.331072Z",
     "shell.execute_reply.started": "2021-09-30T02:48:16.152531Z"
    },
    "papermill": {
     "duration": 0.090583,
     "end_time": "2021-09-30T07:19:57.331947",
     "exception": false,
     "start_time": "2021-09-30T07:19:57.241364",
     "status": "completed"
    },
    "tags": []
   },
   "outputs": [
    {
     "name": "stdout",
     "output_type": "stream",
     "text": [
      "0.00 0.274\n",
      "0.05 0.509\n",
      "0.10 0.591\n",
      "0.15 0.666\n",
      "0.20 0.710\n",
      "0.25 0.737\n",
      "0.30 0.760\n",
      "0.35 0.772\n",
      "0.40 0.785\n",
      "0.45 0.793\n",
      "0.50 0.803\n",
      "0.55 0.801\n",
      "0.60 0.795\n",
      "0.65 0.786\n",
      "0.70 0.765\n",
      "0.75 0.744\n",
      "0.80 0.735\n",
      "0.85 0.726\n",
      "0.90 0.726\n",
      "0.95 0.726\n",
      "1.00 0.726\n"
     ]
    }
   ],
   "source": [
    "# Recall linspace produces an nparray with equal 'spacings'\n",
    "thresholds = np.linspace(0, 1, 21)\n",
    "\n",
    "scores = []\n",
    "\n",
    "# Printing threshold, printing accuracy score with the threshold \n",
    "for t in thresholds:\n",
    "    score = accuracy_score(y_val, y_pred >= t)\n",
    "    print('%.2f %.3f' % (t, score))\n",
    "    scores.append(score)"
   ]
  },
  {
   "cell_type": "markdown",
   "id": "641ae604",
   "metadata": {},
   "source": [
    "Here actually 0.5 is the best threshold"
   ]
  },
  {
   "cell_type": "code",
   "execution_count": 84,
   "id": "30742aff",
   "metadata": {
    "execution": {
     "iopub.execute_input": "2021-09-30T07:19:57.495437Z",
     "iopub.status.busy": "2021-09-30T07:19:57.476823Z",
     "iopub.status.idle": "2021-09-30T07:19:57.706858Z",
     "shell.execute_reply": "2021-09-30T07:19:57.707344Z",
     "shell.execute_reply.started": "2021-09-30T02:48:16.179508Z"
    },
    "papermill": {
     "duration": 0.304045,
     "end_time": "2021-09-30T07:19:57.707507",
     "exception": false,
     "start_time": "2021-09-30T07:19:57.403462",
     "status": "completed"
    },
    "tags": []
   },
   "outputs": [
    {
     "data": {
      "text/plain": [
       "[<matplotlib.lines.Line2D at 0x1ff159ae440>]"
      ]
     },
     "execution_count": 84,
     "metadata": {},
     "output_type": "execute_result"
    },
    {
     "data": {
      "image/png": "[encoded data removed]",
      "text/plain": [
       "<Figure size 432x288 with 1 Axes>"
      ]
     },
     "metadata": {
      "needs_background": "light"
     },
     "output_type": "display_data"
    }
   ],
   "source": [
    "plt.plot(thresholds, scores)"
   ]
  },
  {
   "cell_type": "code",
   "execution_count": 85,
   "id": "3cfde00a",
   "metadata": {
    "execution": {
     "iopub.execute_input": "2021-09-30T07:19:57.856222Z",
     "iopub.status.busy": "2021-09-30T07:19:57.855557Z",
     "iopub.status.idle": "2021-09-30T07:19:57.858572Z",
     "shell.execute_reply": "2021-09-30T07:19:57.858011Z",
     "shell.execute_reply.started": "2021-09-30T02:48:16.418153Z"
    },
    "papermill": {
     "duration": 0.079629,
     "end_time": "2021-09-30T07:19:57.858705",
     "exception": false,
     "start_time": "2021-09-30T07:19:57.779076",
     "status": "completed"
    },
    "tags": []
   },
   "outputs": [],
   "source": [
    "from collections import Counter"
   ]
  },
  {
   "cell_type": "markdown",
   "id": "08b026b0",
   "metadata": {
    "papermill": {
     "duration": 0.071705,
     "end_time": "2021-09-30T07:19:58.002125",
     "exception": false,
     "start_time": "2021-09-30T07:19:57.930420",
     "status": "completed"
    },
    "tags": []
   },
   "source": [
    "Afterthoughts of accuracy:\n",
    "\n",
    "Accuracy does not tell us how good a model is if there is a class imbalance. Only with balanced data (such as data that is 50/50, or a bit more varied than that) would accuracy be a good metric to use. We have to look at other evaluation metrics"
   ]
  },
  {
   "cell_type": "code",
   "execution_count": 86,
   "id": "2bac74fa",
   "metadata": {
    "execution": {
     "iopub.execute_input": "2021-09-30T07:19:58.151762Z",
     "iopub.status.busy": "2021-09-30T07:19:58.151152Z",
     "iopub.status.idle": "2021-09-30T07:19:58.154160Z",
     "shell.execute_reply": "2021-09-30T07:19:58.153533Z",
     "shell.execute_reply.started": "2021-09-30T02:48:16.422666Z"
    },
    "papermill": {
     "duration": 0.08003,
     "end_time": "2021-09-30T07:19:58.154306",
     "exception": false,
     "start_time": "2021-09-30T07:19:58.074276",
     "status": "completed"
    },
    "tags": []
   },
   "outputs": [
    {
     "data": {
      "text/plain": [
       "Counter({False: 1409})"
      ]
     },
     "execution_count": 86,
     "metadata": {},
     "output_type": "execute_result"
    }
   ],
   "source": [
    "# counting stuff\n",
    "Counter(y_pred >= 1.0)"
   ]
  },
  {
   "cell_type": "code",
   "execution_count": 87,
   "id": "4a2533b2",
   "metadata": {
    "execution": {
     "iopub.execute_input": "2021-09-30T07:19:58.304670Z",
     "iopub.status.busy": "2021-09-30T07:19:58.304030Z",
     "iopub.status.idle": "2021-09-30T07:19:58.307190Z",
     "shell.execute_reply": "2021-09-30T07:19:58.307623Z",
     "shell.execute_reply.started": "2021-09-30T02:48:16.439744Z"
    },
    "papermill": {
     "duration": 0.08127,
     "end_time": "2021-09-30T07:19:58.307795",
     "exception": false,
     "start_time": "2021-09-30T07:19:58.226525",
     "status": "completed"
    },
    "tags": []
   },
   "outputs": [
    {
     "data": {
      "text/plain": [
       "Counter({0: 1023, 1: 386})"
      ]
     },
     "execution_count": 87,
     "metadata": {},
     "output_type": "execute_result"
    }
   ],
   "source": [
    "# There is a class imbalance - there are significantly more number of people that are not expected to churn.\n",
    "Counter(y_val)"
   ]
  },
  {
   "cell_type": "code",
   "execution_count": 88,
   "id": "3f0fbe93",
   "metadata": {
    "execution": {
     "iopub.execute_input": "2021-09-30T07:19:58.455822Z",
     "iopub.status.busy": "2021-09-30T07:19:58.455219Z",
     "iopub.status.idle": "2021-09-30T07:19:58.460308Z",
     "shell.execute_reply": "2021-09-30T07:19:58.460778Z",
     "shell.execute_reply.started": "2021-09-30T02:48:16.452994Z"
    },
    "papermill": {
     "duration": 0.080729,
     "end_time": "2021-09-30T07:19:58.460958",
     "exception": false,
     "start_time": "2021-09-30T07:19:58.380229",
     "status": "completed"
    },
    "tags": []
   },
   "outputs": [
    {
     "data": {
      "text/plain": [
       "0.7260468417317246"
      ]
     },
     "execution_count": 88,
     "metadata": {},
     "output_type": "execute_result"
    }
   ],
   "source": [
    "# Percentage of people that are not expected to churn in the first place \n",
    "1 - y_val.mean()"
   ]
  },
  {
   "cell_type": "markdown",
   "id": "e5b5a812",
   "metadata": {
    "papermill": {
     "duration": 0.07242,
     "end_time": "2021-09-30T07:19:58.606342",
     "exception": false,
     "start_time": "2021-09-30T07:19:58.533922",
     "status": "completed"
    },
    "tags": []
   },
   "source": [
    "NOTE: For 4.3 and 4.4, it would be good if you watched the videos for better visualisations of the terms below. You can draw it out on your own as well, but I personally believe that visualisations are a must to understand these concepts a little bit better."
   ]
  },
  {
   "cell_type": "markdown",
   "id": "1b66df5a",
   "metadata": {
    "papermill": {
     "duration": 0.072466,
     "end_time": "2021-09-30T07:19:58.752289",
     "exception": false,
     "start_time": "2021-09-30T07:19:58.679823",
     "status": "completed"
    },
    "tags": []
   },
   "source": [
    "## 4.3 Confusion table\n",
    "\n",
    "* Different types of errors and correct decisions\n",
    "* Arranging them in a table"
   ]
  },
  {
   "cell_type": "markdown",
   "id": "3dae67f5",
   "metadata": {
    "papermill": {
     "duration": 0.072052,
     "end_time": "2021-09-30T07:19:58.896739",
     "exception": false,
     "start_time": "2021-09-30T07:19:58.824687",
     "status": "completed"
    },
    "tags": []
   },
   "source": [
    "Basics of a confusion table/matrix (as some people would call it): \n",
    "\n",
    "There will be 2 possible scenarios when there is a prediction of no churn:\n",
    "1. The customer indeed didn't churn - also known as a true negative\n",
    "2. The customer actually churned - also knows as a false negative\n",
    "\n",
    "The same thing will happen when there is a prediction of churn:\n",
    "1. The customer indeed churned - also known as a true positive\n",
    "2. The customer actually didn't churn - also known as a false positive \n",
    "\n",
    "These four scenarios form a confusion table/matrix."
   ]
  },
  {
   "cell_type": "code",
   "execution_count": 89,
   "id": "b74ffa3d",
   "metadata": {
    "execution": {
     "iopub.execute_input": "2021-09-30T07:19:59.044299Z",
     "iopub.status.busy": "2021-09-30T07:19:59.043635Z",
     "iopub.status.idle": "2021-09-30T07:19:59.048286Z",
     "shell.execute_reply": "2021-09-30T07:19:59.047766Z",
     "shell.execute_reply.started": "2021-09-30T02:48:16.465998Z"
    },
    "papermill": {
     "duration": 0.079435,
     "end_time": "2021-09-30T07:19:59.048423",
     "exception": false,
     "start_time": "2021-09-30T07:19:58.968988",
     "status": "completed"
    },
    "tags": []
   },
   "outputs": [],
   "source": [
    "# Actual positives and negatives \n",
    "actual_positive = (y_val == 1)\n",
    "actual_negative = (y_val == 0)"
   ]
  },
  {
   "cell_type": "code",
   "execution_count": 90,
   "id": "896b9104",
   "metadata": {
    "execution": {
     "iopub.execute_input": "2021-09-30T07:19:59.199714Z",
     "iopub.status.busy": "2021-09-30T07:19:59.199123Z",
     "iopub.status.idle": "2021-09-30T07:19:59.202518Z",
     "shell.execute_reply": "2021-09-30T07:19:59.203018Z",
     "shell.execute_reply.started": "2021-09-30T02:48:16.477411Z"
    },
    "papermill": {
     "duration": 0.080896,
     "end_time": "2021-09-30T07:19:59.203179",
     "exception": false,
     "start_time": "2021-09-30T07:19:59.122283",
     "status": "completed"
    },
    "tags": []
   },
   "outputs": [],
   "source": [
    "# Predictions with threshold \n",
    "t = 0.5\n",
    "predict_positive = (y_pred >= t)\n",
    "predict_negative = (y_pred < t)"
   ]
  },
  {
   "cell_type": "code",
   "execution_count": 91,
   "id": "45cb97fc",
   "metadata": {
    "execution": {
     "iopub.execute_input": "2021-09-30T07:19:59.353814Z",
     "iopub.status.busy": "2021-09-30T07:19:59.353165Z",
     "iopub.status.idle": "2021-09-30T07:19:59.355526Z",
     "shell.execute_reply": "2021-09-30T07:19:59.356092Z",
     "shell.execute_reply.started": "2021-09-30T02:48:16.489713Z"
    },
    "papermill": {
     "duration": 0.08056,
     "end_time": "2021-09-30T07:19:59.356263",
     "exception": false,
     "start_time": "2021-09-30T07:19:59.275703",
     "status": "completed"
    },
    "tags": []
   },
   "outputs": [],
   "source": [
    "# Four components of the confusion matrix\n",
    "\n",
    "tp = (predict_positive & actual_positive).sum() # true positive\n",
    "tn = (predict_negative & actual_negative).sum() # true negative\n",
    "\n",
    "fp = (predict_positive & actual_negative).sum() # false positive\n",
    "fn = (predict_negative & actual_positive).sum() # false negative"
   ]
  },
  {
   "cell_type": "code",
   "execution_count": 92,
   "id": "95537b8e",
   "metadata": {
    "execution": {
     "iopub.execute_input": "2021-09-30T07:19:59.505201Z",
     "iopub.status.busy": "2021-09-30T07:19:59.504558Z",
     "iopub.status.idle": "2021-09-30T07:19:59.510023Z",
     "shell.execute_reply": "2021-09-30T07:19:59.510520Z",
     "shell.execute_reply.started": "2021-09-30T02:48:16.503399Z"
    },
    "papermill": {
     "duration": 0.08128,
     "end_time": "2021-09-30T07:19:59.510683",
     "exception": false,
     "start_time": "2021-09-30T07:19:59.429403",
     "status": "completed"
    },
    "tags": []
   },
   "outputs": [
    {
     "data": {
      "text/plain": [
       "array([[922, 101],\n",
       "       [176, 210]])"
      ]
     },
     "execution_count": 92,
     "metadata": {},
     "output_type": "execute_result"
    }
   ],
   "source": [
    "# Creating the confusion matrix itself \n",
    "\n",
    "confusion_matrix = np.array([\n",
    "    [tn, fp],\n",
    "    [fn, tp]\n",
    "])\n",
    "confusion_matrix"
   ]
  },
  {
   "cell_type": "code",
   "execution_count": 93,
   "id": "3a30656e",
   "metadata": {
    "execution": {
     "iopub.execute_input": "2021-09-30T07:19:59.659961Z",
     "iopub.status.busy": "2021-09-30T07:19:59.659330Z",
     "iopub.status.idle": "2021-09-30T07:19:59.664281Z",
     "shell.execute_reply": "2021-09-30T07:19:59.664737Z",
     "shell.execute_reply.started": "2021-09-30T02:48:16.517195Z"
    },
    "papermill": {
     "duration": 0.081043,
     "end_time": "2021-09-30T07:19:59.664929",
     "exception": false,
     "start_time": "2021-09-30T07:19:59.583886",
     "status": "completed"
    },
    "tags": []
   },
   "outputs": [
    {
     "data": {
      "text/plain": [
       "array([[0.65, 0.07],\n",
       "       [0.12, 0.15]])"
      ]
     },
     "execution_count": 93,
     "metadata": {},
     "output_type": "execute_result"
    }
   ],
   "source": [
    "# Percentage, rounded off to 2 dp \n",
    "(confusion_matrix / confusion_matrix.sum()).round(2)"
   ]
  },
  {
   "cell_type": "markdown",
   "id": "fd2102b0",
   "metadata": {
    "papermill": {
     "duration": 0.07275,
     "end_time": "2021-09-30T07:19:59.811747",
     "exception": false,
     "start_time": "2021-09-30T07:19:59.738997",
     "status": "completed"
    },
    "tags": []
   },
   "source": [
    "Accuracy can be based on here, by looking at the probability of the true negatives and positives.\n",
    "This totals up to 0.8, which is the accuracy of our previous model."
   ]
  },
  {
   "cell_type": "markdown",
   "id": "ee8f9b90",
   "metadata": {
    "papermill": {
     "duration": 0.073181,
     "end_time": "2021-09-30T07:19:59.958431",
     "exception": false,
     "start_time": "2021-09-30T07:19:59.885250",
     "status": "completed"
    },
    "tags": []
   },
   "source": [
    "## 4.4 Precision and Recall\n",
    "\n",
    "Some definitions here:\n",
    "\n",
    "Precision: Fraction of positive predictions that are correct\n",
    "\n",
    "Recall: Fraction of correctly identified positive predictions "
   ]
  },
  {
   "cell_type": "code",
   "execution_count": 94,
   "id": "af77bfe8",
   "metadata": {
    "execution": {
     "iopub.execute_input": "2021-09-30T07:20:00.111347Z",
     "iopub.status.busy": "2021-09-30T07:20:00.110673Z",
     "iopub.status.idle": "2021-09-30T07:20:00.115380Z",
     "shell.execute_reply": "2021-09-30T07:20:00.115859Z",
     "shell.execute_reply.started": "2021-09-30T02:48:16.52874Z"
    },
    "papermill": {
     "duration": 0.083768,
     "end_time": "2021-09-30T07:20:00.116038",
     "exception": false,
     "start_time": "2021-09-30T07:20:00.032270",
     "status": "completed"
    },
    "tags": []
   },
   "outputs": [
    {
     "data": {
      "text/plain": [
       "0.6752411575562701"
      ]
     },
     "execution_count": 94,
     "metadata": {},
     "output_type": "execute_result"
    }
   ],
   "source": [
    "# Precision \n",
    "p = tp / (tp + fp)\n",
    "p"
   ]
  },
  {
   "cell_type": "code",
   "execution_count": 95,
   "id": "85cf9904",
   "metadata": {
    "execution": {
     "iopub.execute_input": "2021-09-30T07:20:00.266470Z",
     "iopub.status.busy": "2021-09-30T07:20:00.265780Z",
     "iopub.status.idle": "2021-09-30T07:20:00.270791Z",
     "shell.execute_reply": "2021-09-30T07:20:00.271309Z",
     "shell.execute_reply.started": "2021-09-30T02:48:16.541798Z"
    },
    "papermill": {
     "duration": 0.081884,
     "end_time": "2021-09-30T07:20:00.271480",
     "exception": false,
     "start_time": "2021-09-30T07:20:00.189596",
     "status": "completed"
    },
    "tags": []
   },
   "outputs": [
    {
     "data": {
      "text/plain": [
       "0.5440414507772021"
      ]
     },
     "execution_count": 95,
     "metadata": {},
     "output_type": "execute_result"
    }
   ],
   "source": [
    "# Recall\n",
    "r = tp / (tp + fn)\n",
    "r"
   ]
  },
  {
   "cell_type": "markdown",
   "id": "261d5488",
   "metadata": {
    "papermill": {
     "duration": 0.073833,
     "end_time": "2021-09-30T07:20:00.419795",
     "exception": false,
     "start_time": "2021-09-30T07:20:00.345962",
     "status": "completed"
    },
    "tags": []
   },
   "source": [
    "## Precision vs Recall - when do we use it? \n",
    "Answer: It depends on the situation at hand. \n",
    "\n",
    "Sometimes, we would need to focus on precision a bit more than that of recall, and sometimes vice versa. \n",
    "\n",
    "For example, we would need to focus more on recall if "
   ]
  },
  {
   "cell_type": "markdown",
   "id": "19149398",
   "metadata": {
    "papermill": {
     "duration": 0.073502,
     "end_time": "2021-09-30T07:20:00.567003",
     "exception": false,
     "start_time": "2021-09-30T07:20:00.493501",
     "status": "completed"
    },
    "tags": []
   },
   "source": [
    "## 4.5 ROC Curves\n",
    "\n",
    "### TPR and FPR"
   ]
  },
  {
   "cell_type": "code",
   "execution_count": 96,
   "id": "07128091",
   "metadata": {
    "execution": {
     "iopub.execute_input": "2021-09-30T07:20:00.720989Z",
     "iopub.status.busy": "2021-09-30T07:20:00.720345Z",
     "iopub.status.idle": "2021-09-30T07:20:00.722692Z",
     "shell.execute_reply": "2021-09-30T07:20:00.723212Z",
     "shell.execute_reply.started": "2021-09-30T02:48:16.559538Z"
    },
    "papermill": {
     "duration": 0.082678,
     "end_time": "2021-09-30T07:20:00.723371",
     "exception": false,
     "start_time": "2021-09-30T07:20:00.640693",
     "status": "completed"
    },
    "tags": []
   },
   "outputs": [
    {
     "data": {
      "text/plain": [
       "0.5440414507772021"
      ]
     },
     "execution_count": 96,
     "metadata": {},
     "output_type": "execute_result"
    }
   ],
   "source": [
    "# True Positive Rate aka true positives divided by total number of positives\n",
    "# total number of positives = predicted positive, is positive (TP) + predicted negative, is positive (FN)\n",
    "tpr = tp / (tp + fn)\n",
    "tpr"
   ]
  },
  {
   "cell_type": "code",
   "execution_count": 97,
   "id": "218a8e8a",
   "metadata": {
    "execution": {
     "iopub.execute_input": "2021-09-30T07:20:00.878484Z",
     "iopub.status.busy": "2021-09-30T07:20:00.877762Z",
     "iopub.status.idle": "2021-09-30T07:20:00.882215Z",
     "shell.execute_reply": "2021-09-30T07:20:00.882674Z",
     "shell.execute_reply.started": "2021-09-30T02:48:16.567903Z"
    },
    "papermill": {
     "duration": 0.085332,
     "end_time": "2021-09-30T07:20:00.882851",
     "exception": false,
     "start_time": "2021-09-30T07:20:00.797519",
     "status": "completed"
    },
    "tags": []
   },
   "outputs": [
    {
     "data": {
      "text/plain": [
       "0.09872922776148582"
      ]
     },
     "execution_count": 97,
     "metadata": {},
     "output_type": "execute_result"
    }
   ],
   "source": [
    "# False Positive Rate aka false positives divided total number of negatives\n",
    "# total number of negatives = predicted negative, is negative (TN) + predicted positives, is negative (FP)\n",
    "fpr = fp / (fp + tn)\n",
    "fpr"
   ]
  },
  {
   "cell_type": "code",
   "execution_count": 98,
   "id": "9b109fa7",
   "metadata": {
    "execution": {
     "iopub.execute_input": "2021-09-30T07:20:01.040898Z",
     "iopub.status.busy": "2021-09-30T07:20:01.039817Z",
     "iopub.status.idle": "2021-09-30T07:20:01.047350Z",
     "shell.execute_reply": "2021-09-30T07:20:01.046855Z",
     "shell.execute_reply.started": "2021-09-30T02:48:16.584132Z"
    },
    "papermill": {
     "duration": 0.090047,
     "end_time": "2021-09-30T07:20:01.047487",
     "exception": false,
     "start_time": "2021-09-30T07:20:00.957440",
     "status": "completed"
    },
    "tags": []
   },
   "outputs": [],
   "source": [
    "scores = []\n",
    "\n",
    "# Creating an array of evenly-spaced probabilities from 0 to 1 (aka 0, 0.1, 0.2, ..., 0.99, 1)\n",
    "thresholds = np.linspace(0, 1, 101)\n",
    "\n",
    "# Printing true positives & negatives, false positives & negatives for each rate \n",
    "for t in thresholds:\n",
    "    actual_positive = (y_val == 1)\n",
    "    actual_negative = (y_val == 0)\n",
    "    \n",
    "    predict_positive = (y_pred >= t)\n",
    "    predict_negative = (y_pred < t)\n",
    "\n",
    "    tp = (predict_positive & actual_positive).sum()\n",
    "    tn = (predict_negative & actual_negative).sum()\n",
    "\n",
    "    fp = (predict_positive & actual_negative).sum()\n",
    "    fn = (predict_negative & actual_positive).sum()\n",
    "    \n",
    "    # List of tuples is created per threshold\n",
    "    scores.append((t, tp, fp, fn, tn))"
   ]
  },
  {
   "cell_type": "code",
   "execution_count": 99,
   "id": "2669ca30",
   "metadata": {},
   "outputs": [
    {
     "data": {
      "text/plain": [
       "[(0.0, 386, 1023, 0, 0),\n",
       " (0.01, 385, 912, 1, 111),\n",
       " (0.02, 384, 829, 2, 194),\n",
       " (0.03, 383, 766, 3, 257),\n",
       " (0.04, 381, 715, 5, 308),\n",
       " (0.05, 379, 685, 7, 338),\n",
       " (0.06, 377, 660, 9, 363),\n",
       " (0.07, 372, 641, 14, 382),\n",
       " (0.08, 371, 613, 15, 410),\n",
       " (0.09, 369, 580, 17, 443),\n",
       " (0.1, 366, 556, 20, 467),\n",
       " (0.11, 365, 528, 21, 495),\n",
       " (0.12, 365, 509, 21, 514),\n",
       " (0.13, 360, 478, 26, 545),\n",
       " (0.14, 354, 453, 32, 570),\n",
       " (0.15, 351, 435, 35, 588),\n",
       " (0.16, 347, 419, 39, 604),\n",
       " (0.17, 346, 400, 40, 623),\n",
       " (0.18, 344, 384, 42, 639),\n",
       " (0.19, 338, 370, 48, 653),\n",
       " (0.2, 333, 356, 53, 667),\n",
       " (0.21, 330, 341, 56, 682),\n",
       " (0.22, 323, 322, 63, 701),\n",
       " (0.23, 320, 313, 66, 710),\n",
       " (0.24, 316, 303, 70, 720),\n",
       " (0.25, 308, 292, 78, 731),\n",
       " (0.26, 304, 281, 82, 742),\n",
       " (0.27, 303, 270, 83, 753),\n",
       " (0.28, 295, 255, 91, 768),\n",
       " (0.29, 291, 244, 95, 779),\n",
       " (0.3, 284, 236, 102, 787),\n",
       " (0.31, 280, 230, 106, 793),\n",
       " (0.32, 278, 226, 108, 797),\n",
       " (0.33, 276, 221, 110, 802),\n",
       " (0.34, 274, 212, 112, 811),\n",
       " (0.35000000000000003, 272, 207, 114, 816),\n",
       " (0.36, 267, 201, 119, 822),\n",
       " (0.37, 265, 197, 121, 826),\n",
       " (0.38, 260, 185, 126, 838),\n",
       " (0.39, 252, 178, 134, 845),\n",
       " (0.4, 249, 166, 137, 857),\n",
       " (0.41000000000000003, 246, 159, 140, 864),\n",
       " (0.42, 243, 157, 143, 866),\n",
       " (0.43, 241, 150, 145, 873),\n",
       " (0.44, 234, 147, 152, 876),\n",
       " (0.45, 229, 134, 157, 889),\n",
       " (0.46, 224, 125, 162, 898),\n",
       " (0.47000000000000003, 218, 120, 168, 903),\n",
       " (0.48, 217, 114, 169, 909),\n",
       " (0.49, 213, 109, 173, 914),\n",
       " (0.5, 210, 101, 176, 922),\n",
       " (0.51, 206, 99, 180, 924),\n",
       " (0.52, 204, 93, 182, 930),\n",
       " (0.53, 195, 91, 191, 932),\n",
       " (0.54, 194, 85, 192, 938),\n",
       " (0.55, 185, 79, 201, 944),\n",
       " (0.56, 182, 75, 204, 948),\n",
       " (0.5700000000000001, 176, 67, 210, 956),\n",
       " (0.58, 171, 61, 215, 962),\n",
       " (0.59, 162, 59, 224, 964),\n",
       " (0.6, 150, 53, 236, 970),\n",
       " (0.61, 145, 49, 241, 974),\n",
       " (0.62, 140, 46, 246, 977),\n",
       " (0.63, 133, 40, 253, 983),\n",
       " (0.64, 124, 37, 262, 986),\n",
       " (0.65, 119, 34, 267, 989),\n",
       " (0.66, 114, 31, 272, 992),\n",
       " (0.67, 104, 29, 282, 994),\n",
       " (0.68, 93, 26, 293, 997),\n",
       " (0.6900000000000001, 88, 25, 298, 998),\n",
       " (0.7000000000000001, 75, 20, 311, 1003),\n",
       " (0.71, 63, 13, 323, 1010),\n",
       " (0.72, 57, 11, 329, 1012),\n",
       " (0.73, 47, 9, 339, 1014),\n",
       " (0.74, 41, 8, 345, 1015),\n",
       " (0.75, 33, 7, 353, 1016),\n",
       " (0.76, 30, 6, 356, 1017),\n",
       " (0.77, 24, 5, 362, 1018),\n",
       " (0.78, 18, 3, 368, 1020),\n",
       " (0.79, 15, 2, 371, 1021),\n",
       " (0.8, 13, 1, 373, 1022),\n",
       " (0.81, 6, 0, 380, 1023),\n",
       " (0.8200000000000001, 5, 0, 381, 1023),\n",
       " (0.8300000000000001, 3, 0, 383, 1023),\n",
       " (0.84, 0, 0, 386, 1023),\n",
       " (0.85, 0, 0, 386, 1023),\n",
       " (0.86, 0, 0, 386, 1023),\n",
       " (0.87, 0, 0, 386, 1023),\n",
       " (0.88, 0, 0, 386, 1023),\n",
       " (0.89, 0, 0, 386, 1023),\n",
       " (0.9, 0, 0, 386, 1023),\n",
       " (0.91, 0, 0, 386, 1023),\n",
       " (0.92, 0, 0, 386, 1023),\n",
       " (0.93, 0, 0, 386, 1023),\n",
       " (0.9400000000000001, 0, 0, 386, 1023),\n",
       " (0.9500000000000001, 0, 0, 386, 1023),\n",
       " (0.96, 0, 0, 386, 1023),\n",
       " (0.97, 0, 0, 386, 1023),\n",
       " (0.98, 0, 0, 386, 1023),\n",
       " (0.99, 0, 0, 386, 1023),\n",
       " (1.0, 0, 0, 386, 1023)]"
      ]
     },
     "execution_count": 99,
     "metadata": {},
     "output_type": "execute_result"
    }
   ],
   "source": [
    "scores"
   ]
  },
  {
   "cell_type": "code",
   "execution_count": 100,
   "id": "0c2077e9",
   "metadata": {
    "execution": {
     "iopub.execute_input": "2021-09-30T07:20:01.200786Z",
     "iopub.status.busy": "2021-09-30T07:20:01.200148Z",
     "iopub.status.idle": "2021-09-30T07:20:01.209389Z",
     "shell.execute_reply": "2021-09-30T07:20:01.208796Z",
     "shell.execute_reply.started": "2021-09-30T02:48:16.600412Z"
    },
    "papermill": {
     "duration": 0.087128,
     "end_time": "2021-09-30T07:20:01.209521",
     "exception": false,
     "start_time": "2021-09-30T07:20:01.122393",
     "status": "completed"
    },
    "tags": []
   },
   "outputs": [],
   "source": [
    "# Creating a dataframe for these scores so that we are able model the TPRs and FPRs for each threshold\n",
    "columns = ['threshold', 'tp', 'fp', 'fn', 'tn']\n",
    "df_scores = pd.DataFrame(scores, columns=columns)\n",
    "\n",
    "df_scores['tpr'] = df_scores.tp / (df_scores.tp + df_scores.fn)\n",
    "df_scores['fpr'] = df_scores.fp / (df_scores.fp + df_scores.tn)"
   ]
  },
  {
   "cell_type": "code",
   "execution_count": 101,
   "id": "84b58dd4",
   "metadata": {
    "execution": {
     "iopub.execute_input": "2021-09-30T07:20:01.393928Z",
     "iopub.status.busy": "2021-09-30T07:20:01.387800Z",
     "iopub.status.idle": "2021-09-30T07:20:01.600061Z",
     "shell.execute_reply": "2021-09-30T07:20:01.599515Z",
     "shell.execute_reply.started": "2021-09-30T02:48:16.614862Z"
    },
    "papermill": {
     "duration": 0.316144,
     "end_time": "2021-09-30T07:20:01.600195",
     "exception": false,
     "start_time": "2021-09-30T07:20:01.284051",
     "status": "completed"
    },
    "tags": []
   },
   "outputs": [
    {
     "data": {
      "text/plain": [
       "<matplotlib.legend.Legend at 0x1ff18323850>"
      ]
     },
     "execution_count": 101,
     "metadata": {},
     "output_type": "execute_result"
    },
    {
     "data": {
      "image/png": "[encoded data removed]",
      "text/plain": [
       "<Figure size 432x288 with 1 Axes>"
      ]
     },
     "metadata": {
      "needs_background": "light"
     },
     "output_type": "display_data"
    }
   ],
   "source": [
    "plt.plot(df_scores.threshold, df_scores['tpr'], label='TPR')\n",
    "plt.plot(df_scores.threshold, df_scores['fpr'], label='FPR')\n",
    "plt.legend()"
   ]
  },
  {
   "cell_type": "markdown",
   "id": "cb5dd814",
   "metadata": {
    "papermill": {
     "duration": 0.076243,
     "end_time": "2021-09-30T07:20:01.752637",
     "exception": false,
     "start_time": "2021-09-30T07:20:01.676394",
     "status": "completed"
    },
    "tags": []
   },
   "source": [
    "1. At threshold 0, we do predict everyone that churns as positive, so the TPR = 1. But at the same time, we do not predict anyone as negative. Therefore, the true negative = 0, and FPR = 1 since FP / FP + TN is effectively FP/FP which equals 1.\n",
    "2. Both TPR and FPR goes down when we increase the threshold, but the FPR decreases at a faster rate. We do want the FPR to decrease faster! "
   ]
  },
  {
   "cell_type": "markdown",
   "id": "9df4bc31",
   "metadata": {
    "papermill": {
     "duration": 0.075174,
     "end_time": "2021-09-30T07:20:01.903721",
     "exception": false,
     "start_time": "2021-09-30T07:20:01.828547",
     "status": "completed"
    },
    "tags": []
   },
   "source": [
    "### Random model\n",
    "We will be using this model as a baseline."
   ]
  },
  {
   "cell_type": "code",
   "execution_count": 102,
   "id": "c24b4622",
   "metadata": {
    "execution": {
     "iopub.execute_input": "2021-09-30T07:20:02.061080Z",
     "iopub.status.busy": "2021-09-30T07:20:02.060145Z",
     "iopub.status.idle": "2021-09-30T07:20:02.062993Z",
     "shell.execute_reply": "2021-09-30T07:20:02.062483Z",
     "shell.execute_reply.started": "2021-09-30T02:48:16.852504Z"
    },
    "papermill": {
     "duration": 0.083273,
     "end_time": "2021-09-30T07:20:02.063136",
     "exception": false,
     "start_time": "2021-09-30T07:20:01.979863",
     "status": "completed"
    },
    "tags": []
   },
   "outputs": [],
   "source": [
    "# Plucking numbers from a straight line distribution, size should be the same as validation data \n",
    "np.random.seed(1)\n",
    "y_rand = np.random.uniform(0, 1, size=len(y_val))"
   ]
  },
  {
   "cell_type": "code",
   "execution_count": 103,
   "id": "f9b0c298",
   "metadata": {
    "execution": {
     "iopub.execute_input": "2021-09-30T07:20:02.222117Z",
     "iopub.status.busy": "2021-09-30T07:20:02.221283Z",
     "iopub.status.idle": "2021-09-30T07:20:02.224860Z",
     "shell.execute_reply": "2021-09-30T07:20:02.224384Z",
     "shell.execute_reply.started": "2021-09-30T02:48:16.858295Z"
    },
    "papermill": {
     "duration": 0.085111,
     "end_time": "2021-09-30T07:20:02.224996",
     "exception": false,
     "start_time": "2021-09-30T07:20:02.139885",
     "status": "completed"
    },
    "tags": []
   },
   "outputs": [
    {
     "data": {
      "text/plain": [
       "0.5017743080198722"
      ]
     },
     "execution_count": 103,
     "metadata": {},
     "output_type": "execute_result"
    }
   ],
   "source": [
    "# Default threshold of 0.5 \n",
    "((y_rand >= 0.5) == y_val).mean()"
   ]
  },
  {
   "cell_type": "code",
   "execution_count": 104,
   "id": "2daf4fc1",
   "metadata": {
    "execution": {
     "iopub.execute_input": "2021-09-30T07:20:02.387205Z",
     "iopub.status.busy": "2021-09-30T07:20:02.386501Z",
     "iopub.status.idle": "2021-09-30T07:20:02.389394Z",
     "shell.execute_reply": "2021-09-30T07:20:02.388880Z",
     "shell.execute_reply.started": "2021-09-30T02:48:16.877265Z"
    },
    "papermill": {
     "duration": 0.088189,
     "end_time": "2021-09-30T07:20:02.389529",
     "exception": false,
     "start_time": "2021-09-30T07:20:02.301340",
     "status": "completed"
    },
    "tags": []
   },
   "outputs": [],
   "source": [
    "# Using the previous function to create \n",
    "def tpr_fpr_dataframe(y_val, y_pred):\n",
    "    scores = []\n",
    "\n",
    "    thresholds = np.linspace(0, 1, 101)\n",
    "\n",
    "    for t in thresholds:\n",
    "        actual_positive = (y_val == 1)\n",
    "        actual_negative = (y_val == 0)\n",
    "\n",
    "        predict_positive = (y_pred >= t)\n",
    "        predict_negative = (y_pred < t)\n",
    "\n",
    "        tp = (predict_positive & actual_positive).sum()\n",
    "        tn = (predict_negative & actual_negative).sum()\n",
    "\n",
    "        fp = (predict_positive & actual_negative).sum()\n",
    "        fn = (predict_negative & actual_positive).sum()\n",
    "\n",
    "        scores.append((t, tp, fp, fn, tn))\n",
    "\n",
    "    columns = ['threshold', 'tp', 'fp', 'fn', 'tn']\n",
    "    df_scores = pd.DataFrame(scores, columns=columns)\n",
    "\n",
    "    df_scores['tpr'] = df_scores.tp / (df_scores.tp + df_scores.fn)\n",
    "    df_scores['fpr'] = df_scores.fp / (df_scores.fp + df_scores.tn)\n",
    "    \n",
    "    return df_scores"
   ]
  },
  {
   "cell_type": "code",
   "execution_count": 105,
   "id": "f20a7d59",
   "metadata": {
    "execution": {
     "iopub.execute_input": "2021-09-30T07:20:02.549512Z",
     "iopub.status.busy": "2021-09-30T07:20:02.548787Z",
     "iopub.status.idle": "2021-09-30T07:20:02.560155Z",
     "shell.execute_reply": "2021-09-30T07:20:02.559418Z",
     "shell.execute_reply.started": "2021-09-30T02:48:16.888793Z"
    },
    "papermill": {
     "duration": 0.093004,
     "end_time": "2021-09-30T07:20:02.560320",
     "exception": false,
     "start_time": "2021-09-30T07:20:02.467316",
     "status": "completed"
    },
    "tags": []
   },
   "outputs": [],
   "source": [
    "# We use y_random ffor the prediction values in this case\n",
    "df_rand = tpr_fpr_dataframe(y_val, y_rand)"
   ]
  },
  {
   "cell_type": "code",
   "execution_count": 106,
   "id": "f1d37291",
   "metadata": {
    "execution": {
     "iopub.execute_input": "2021-09-30T07:20:02.749803Z",
     "iopub.status.busy": "2021-09-30T07:20:02.743494Z",
     "iopub.status.idle": "2021-09-30T07:20:02.954459Z",
     "shell.execute_reply": "2021-09-30T07:20:02.953824Z",
     "shell.execute_reply.started": "2021-09-30T02:48:16.912432Z"
    },
    "papermill": {
     "duration": 0.316659,
     "end_time": "2021-09-30T07:20:02.954597",
     "exception": false,
     "start_time": "2021-09-30T07:20:02.637938",
     "status": "completed"
    },
    "tags": []
   },
   "outputs": [
    {
     "data": {
      "text/plain": [
       "<matplotlib.legend.Legend at 0x1ff183e1de0>"
      ]
     },
     "execution_count": 106,
     "metadata": {},
     "output_type": "execute_result"
    },
    {
     "data": {
      "image/png": "[encoded data removed]",
      "text/plain": [
       "<Figure size 432x288 with 1 Axes>"
      ]
     },
     "metadata": {
      "needs_background": "light"
     },
     "output_type": "display_data"
    }
   ],
   "source": [
    "plt.plot(df_rand.threshold, df_rand['tpr'], label='TPR')\n",
    "plt.plot(df_rand.threshold, df_rand['fpr'], label='FPR')\n",
    "plt.legend()"
   ]
  },
  {
   "cell_type": "markdown",
   "id": "c7425c2f",
   "metadata": {
    "papermill": {
     "duration": 0.077468,
     "end_time": "2021-09-30T07:20:03.109259",
     "exception": false,
     "start_time": "2021-09-30T07:20:03.031791",
     "status": "completed"
    },
    "tags": []
   },
   "source": [
    "### Ideal model\n",
    "(100% accuracy)"
   ]
  },
  {
   "cell_type": "code",
   "execution_count": 107,
   "id": "5baa3a7c",
   "metadata": {
    "execution": {
     "iopub.execute_input": "2021-09-30T07:20:03.270232Z",
     "iopub.status.busy": "2021-09-30T07:20:03.269557Z",
     "iopub.status.idle": "2021-09-30T07:20:03.273748Z",
     "shell.execute_reply": "2021-09-30T07:20:03.274306Z",
     "shell.execute_reply.started": "2021-09-30T02:48:17.15061Z"
    },
    "papermill": {
     "duration": 0.087878,
     "end_time": "2021-09-30T07:20:03.274470",
     "exception": false,
     "start_time": "2021-09-30T07:20:03.186592",
     "status": "completed"
    },
    "tags": []
   },
   "outputs": [
    {
     "data": {
      "text/plain": [
       "(1023, 386)"
      ]
     },
     "execution_count": 107,
     "metadata": {},
     "output_type": "execute_result"
    }
   ],
   "source": [
    "num_neg = (y_val == 0).sum()\n",
    "num_pos = (y_val == 1).sum()\n",
    "num_neg, num_pos"
   ]
  },
  {
   "cell_type": "code",
   "execution_count": 108,
   "id": "19dc22dd",
   "metadata": {
    "execution": {
     "iopub.execute_input": "2021-09-30T07:20:03.435819Z",
     "iopub.status.busy": "2021-09-30T07:20:03.434898Z",
     "iopub.status.idle": "2021-09-30T07:20:03.437796Z",
     "shell.execute_reply": "2021-09-30T07:20:03.437213Z",
     "shell.execute_reply.started": "2021-09-30T02:48:17.159278Z"
    },
    "papermill": {
     "duration": 0.085648,
     "end_time": "2021-09-30T07:20:03.437949",
     "exception": false,
     "start_time": "2021-09-30T07:20:03.352301",
     "status": "completed"
    },
    "tags": []
   },
   "outputs": [],
   "source": [
    "# Repeating the 0 and 1 values according to the num_neg and num_pos \n",
    "y_ideal = np.repeat([0, 1], [num_neg, num_pos])\n",
    "y_ideal\n",
    "\n",
    "# We create a ideal prediction dataset with values corresponding to 0 or 1 with regards to the threshold\n",
    "y_ideal_pred = np.linspace(0, 1, len(y_val))"
   ]
  },
  {
   "cell_type": "code",
   "execution_count": 109,
   "id": "63812149",
   "metadata": {
    "execution": {
     "iopub.execute_input": "2021-09-30T07:20:03.602249Z",
     "iopub.status.busy": "2021-09-30T07:20:03.601407Z",
     "iopub.status.idle": "2021-09-30T07:20:03.605454Z",
     "shell.execute_reply": "2021-09-30T07:20:03.604847Z",
     "shell.execute_reply.started": "2021-09-30T02:48:17.171921Z"
    },
    "papermill": {
     "duration": 0.089356,
     "end_time": "2021-09-30T07:20:03.605591",
     "exception": false,
     "start_time": "2021-09-30T07:20:03.516235",
     "status": "completed"
    },
    "tags": []
   },
   "outputs": [
    {
     "data": {
      "text/plain": [
       "0.7260468417317246"
      ]
     },
     "execution_count": 109,
     "metadata": {},
     "output_type": "execute_result"
    }
   ],
   "source": [
    "# Rate of non-churning, aka the threshold which we will set this model with \n",
    "1 - y_val.mean()"
   ]
  },
  {
   "cell_type": "code",
   "execution_count": 110,
   "id": "c40129d5",
   "metadata": {
    "execution": {
     "iopub.execute_input": "2021-09-30T07:20:03.767699Z",
     "iopub.status.busy": "2021-09-30T07:20:03.766463Z",
     "iopub.status.idle": "2021-09-30T07:20:03.771089Z",
     "shell.execute_reply": "2021-09-30T07:20:03.770497Z",
     "shell.execute_reply.started": "2021-09-30T02:48:17.186223Z"
    },
    "papermill": {
     "duration": 0.087676,
     "end_time": "2021-09-30T07:20:03.771214",
     "exception": false,
     "start_time": "2021-09-30T07:20:03.683538",
     "status": "completed"
    },
    "tags": []
   },
   "outputs": [
    {
     "data": {
      "text/plain": [
       "1.0"
      ]
     },
     "execution_count": 110,
     "metadata": {},
     "output_type": "execute_result"
    }
   ],
   "source": [
    "accuracy_score(y_ideal, y_ideal_pred >= 0.726)"
   ]
  },
  {
   "cell_type": "code",
   "execution_count": 111,
   "id": "9c3aeb6b",
   "metadata": {
    "execution": {
     "iopub.execute_input": "2021-09-30T07:20:03.982188Z",
     "iopub.status.busy": "2021-09-30T07:20:03.981548Z",
     "iopub.status.idle": "2021-09-30T07:20:04.005849Z",
     "shell.execute_reply": "2021-09-30T07:20:04.005304Z",
     "shell.execute_reply.started": "2021-09-30T02:48:17.201294Z"
    },
    "papermill": {
     "duration": 0.156588,
     "end_time": "2021-09-30T07:20:04.005985",
     "exception": false,
     "start_time": "2021-09-30T07:20:03.849397",
     "status": "completed"
    },
    "tags": []
   },
   "outputs": [
    {
     "data": {
      "text/html": [
       "<div>\n",
       "<style scoped>\n",
       "    .dataframe tbody tr th:only-of-type {\n",
       "        vertical-align: middle;\n",
       "    }\n",
       "\n",
       "    .dataframe tbody tr th {\n",
       "        vertical-align: top;\n",
       "    }\n",
       "\n",
       "    .dataframe thead th {\n",
       "        text-align: right;\n",
       "    }\n",
       "</style>\n",
       "<table border=\"1\" class=\"dataframe\">\n",
       "  <thead>\n",
       "    <tr style=\"text-align: right;\">\n",
       "      <th></th>\n",
       "      <th>threshold</th>\n",
       "      <th>tp</th>\n",
       "      <th>fp</th>\n",
       "      <th>fn</th>\n",
       "      <th>tn</th>\n",
       "      <th>tpr</th>\n",
       "      <th>fpr</th>\n",
       "    </tr>\n",
       "  </thead>\n",
       "  <tbody>\n",
       "    <tr>\n",
       "      <th>0</th>\n",
       "      <td>0.0</td>\n",
       "      <td>386</td>\n",
       "      <td>1023</td>\n",
       "      <td>0</td>\n",
       "      <td>0</td>\n",
       "      <td>1.000000</td>\n",
       "      <td>1.000000</td>\n",
       "    </tr>\n",
       "    <tr>\n",
       "      <th>10</th>\n",
       "      <td>0.1</td>\n",
       "      <td>386</td>\n",
       "      <td>882</td>\n",
       "      <td>0</td>\n",
       "      <td>141</td>\n",
       "      <td>1.000000</td>\n",
       "      <td>0.862170</td>\n",
       "    </tr>\n",
       "    <tr>\n",
       "      <th>20</th>\n",
       "      <td>0.2</td>\n",
       "      <td>386</td>\n",
       "      <td>741</td>\n",
       "      <td>0</td>\n",
       "      <td>282</td>\n",
       "      <td>1.000000</td>\n",
       "      <td>0.724340</td>\n",
       "    </tr>\n",
       "    <tr>\n",
       "      <th>30</th>\n",
       "      <td>0.3</td>\n",
       "      <td>386</td>\n",
       "      <td>600</td>\n",
       "      <td>0</td>\n",
       "      <td>423</td>\n",
       "      <td>1.000000</td>\n",
       "      <td>0.586510</td>\n",
       "    </tr>\n",
       "    <tr>\n",
       "      <th>40</th>\n",
       "      <td>0.4</td>\n",
       "      <td>386</td>\n",
       "      <td>459</td>\n",
       "      <td>0</td>\n",
       "      <td>564</td>\n",
       "      <td>1.000000</td>\n",
       "      <td>0.448680</td>\n",
       "    </tr>\n",
       "    <tr>\n",
       "      <th>50</th>\n",
       "      <td>0.5</td>\n",
       "      <td>386</td>\n",
       "      <td>319</td>\n",
       "      <td>0</td>\n",
       "      <td>704</td>\n",
       "      <td>1.000000</td>\n",
       "      <td>0.311828</td>\n",
       "    </tr>\n",
       "    <tr>\n",
       "      <th>60</th>\n",
       "      <td>0.6</td>\n",
       "      <td>386</td>\n",
       "      <td>178</td>\n",
       "      <td>0</td>\n",
       "      <td>845</td>\n",
       "      <td>1.000000</td>\n",
       "      <td>0.173998</td>\n",
       "    </tr>\n",
       "    <tr>\n",
       "      <th>70</th>\n",
       "      <td>0.7</td>\n",
       "      <td>386</td>\n",
       "      <td>37</td>\n",
       "      <td>0</td>\n",
       "      <td>986</td>\n",
       "      <td>1.000000</td>\n",
       "      <td>0.036168</td>\n",
       "    </tr>\n",
       "    <tr>\n",
       "      <th>80</th>\n",
       "      <td>0.8</td>\n",
       "      <td>282</td>\n",
       "      <td>0</td>\n",
       "      <td>104</td>\n",
       "      <td>1023</td>\n",
       "      <td>0.730570</td>\n",
       "      <td>0.000000</td>\n",
       "    </tr>\n",
       "    <tr>\n",
       "      <th>90</th>\n",
       "      <td>0.9</td>\n",
       "      <td>141</td>\n",
       "      <td>0</td>\n",
       "      <td>245</td>\n",
       "      <td>1023</td>\n",
       "      <td>0.365285</td>\n",
       "      <td>0.000000</td>\n",
       "    </tr>\n",
       "    <tr>\n",
       "      <th>100</th>\n",
       "      <td>1.0</td>\n",
       "      <td>1</td>\n",
       "      <td>0</td>\n",
       "      <td>385</td>\n",
       "      <td>1023</td>\n",
       "      <td>0.002591</td>\n",
       "      <td>0.000000</td>\n",
       "    </tr>\n",
       "  </tbody>\n",
       "</table>\n",
       "</div>"
      ],
      "text/plain": [
       "     threshold   tp    fp   fn    tn       tpr       fpr\n",
       "0          0.0  386  1023    0     0  1.000000  1.000000\n",
       "10         0.1  386   882    0   141  1.000000  0.862170\n",
       "20         0.2  386   741    0   282  1.000000  0.724340\n",
       "30         0.3  386   600    0   423  1.000000  0.586510\n",
       "40         0.4  386   459    0   564  1.000000  0.448680\n",
       "50         0.5  386   319    0   704  1.000000  0.311828\n",
       "60         0.6  386   178    0   845  1.000000  0.173998\n",
       "70         0.7  386    37    0   986  1.000000  0.036168\n",
       "80         0.8  282     0  104  1023  0.730570  0.000000\n",
       "90         0.9  141     0  245  1023  0.365285  0.000000\n",
       "100        1.0    1     0  385  1023  0.002591  0.000000"
      ]
     },
     "execution_count": 111,
     "metadata": {},
     "output_type": "execute_result"
    }
   ],
   "source": [
    "df_ideal = tpr_fpr_dataframe(y_ideal, y_ideal_pred)\n",
    "df_ideal[::10]"
   ]
  },
  {
   "cell_type": "code",
   "execution_count": 112,
   "id": "08d2b0db",
   "metadata": {
    "execution": {
     "iopub.execute_input": "2021-09-30T07:20:04.198129Z",
     "iopub.status.busy": "2021-09-30T07:20:04.166062Z",
     "iopub.status.idle": "2021-09-30T07:20:04.403424Z",
     "shell.execute_reply": "2021-09-30T07:20:04.402914Z",
     "shell.execute_reply.started": "2021-09-30T02:48:17.235182Z"
    },
    "papermill": {
     "duration": 0.318672,
     "end_time": "2021-09-30T07:20:04.403562",
     "exception": false,
     "start_time": "2021-09-30T07:20:04.084890",
     "status": "completed"
    },
    "tags": []
   },
   "outputs": [
    {
     "data": {
      "text/plain": [
       "<matplotlib.legend.Legend at 0x1ff18107790>"
      ]
     },
     "execution_count": 112,
     "metadata": {},
     "output_type": "execute_result"
    },
    {
     "data": {
      "image/png": "[encoded data removed]",
      "text/plain": [
       "<Figure size 432x288 with 1 Axes>"
      ]
     },
     "metadata": {
      "needs_background": "light"
     },
     "output_type": "display_data"
    }
   ],
   "source": [
    "plt.plot(df_ideal.threshold, df_ideal['tpr'], label='TPR')\n",
    "plt.plot(df_ideal.threshold, df_ideal['fpr'], label='FPR')\n",
    "plt.legend()\n"
   ]
  },
  {
   "cell_type": "markdown",
   "id": "985ca410",
   "metadata": {
    "papermill": {
     "duration": 0.089216,
     "end_time": "2021-09-30T07:20:04.580228",
     "exception": false,
     "start_time": "2021-09-30T07:20:04.491012",
     "status": "completed"
    },
    "tags": []
   },
   "source": [
    "True positive always remains at 1 until the threshold of 0.726 whereby it starts to drop.\n",
    "\n",
    "The model still makes mistakes at anything before its threshold, since the FPR is still going down despite the TPR still remaining 1."
   ]
  },
  {
   "cell_type": "markdown",
   "id": "5c0b50fe",
   "metadata": {
    "papermill": {
     "duration": 0.081088,
     "end_time": "2021-09-30T07:20:04.760897",
     "exception": false,
     "start_time": "2021-09-30T07:20:04.679809",
     "status": "completed"
    },
    "tags": []
   },
   "source": [
    "### Putting everything together"
   ]
  },
  {
   "cell_type": "code",
   "execution_count": 113,
   "id": "e8cfb128",
   "metadata": {
    "execution": {
     "iopub.execute_input": "2021-09-30T07:20:05.078425Z",
     "iopub.status.busy": "2021-09-30T07:20:05.069895Z",
     "iopub.status.idle": "2021-09-30T07:20:05.308856Z",
     "shell.execute_reply": "2021-09-30T07:20:05.309434Z",
     "shell.execute_reply.started": "2021-09-30T02:48:17.464205Z"
    },
    "papermill": {
     "duration": 0.468855,
     "end_time": "2021-09-30T07:20:05.309598",
     "exception": false,
     "start_time": "2021-09-30T07:20:04.840743",
     "status": "completed"
    },
    "tags": []
   },
   "outputs": [
    {
     "data": {
      "text/plain": [
       "<matplotlib.legend.Legend at 0x1ff18149300>"
      ]
     },
     "execution_count": 113,
     "metadata": {},
     "output_type": "execute_result"
    },
    {
     "data": {
      "image/png": "[encoded data removed]",
      "text/plain": [
       "<Figure size 432x288 with 1 Axes>"
      ]
     },
     "metadata": {
      "needs_background": "light"
     },
     "output_type": "display_data"
    }
   ],
   "source": [
    "plt.plot(df_scores.threshold, df_scores['tpr'], label='TPR', color='black')\n",
    "plt.plot(df_scores.threshold, df_scores['fpr'], label='FPR', color='blue')\n",
    "\n",
    "plt.plot(df_ideal.threshold, df_ideal['tpr'], label='TPR ideal')\n",
    "plt.plot(df_ideal.threshold, df_ideal['fpr'], label='FPR ideal')\n",
    "\n",
    "# plt.plot(df_rand.threshold, df_rand['tpr'], label='TPR random', color='grey')\n",
    "# plt.plot(df_rand.threshold, df_rand['fpr'], label='FPR random', color='grey')\n",
    "\n",
    "plt.legend()"
   ]
  },
  {
   "cell_type": "markdown",
   "id": "8a566fb4",
   "metadata": {
    "papermill": {
     "duration": 0.080716,
     "end_time": "2021-09-30T07:20:05.472077",
     "exception": false,
     "start_time": "2021-09-30T07:20:05.391361",
     "status": "completed"
    },
    "tags": []
   },
   "source": [
    "We can see that both our TPR and FPR are rather far from the ideal rates themselves.\n",
    "Plotting against the threshold isn't always very intuitive, but what we can do is to plot FPR against TPR, also known as a ROC curve."
   ]
  },
  {
   "cell_type": "code",
   "execution_count": 44,
   "id": "3a5966a2",
   "metadata": {
    "execution": {
     "iopub.execute_input": "2021-09-30T07:20:05.637543Z",
     "iopub.status.busy": "2021-09-30T07:20:05.636931Z",
     "iopub.status.idle": "2021-09-30T07:20:05.874111Z",
     "shell.execute_reply": "2021-09-30T07:20:05.874623Z",
     "shell.execute_reply.started": "2021-09-30T02:48:17.809676Z"
    },
    "papermill": {
     "duration": 0.321569,
     "end_time": "2021-09-30T07:20:05.874792",
     "exception": false,
     "start_time": "2021-09-30T07:20:05.553223",
     "status": "completed"
    },
    "tags": []
   },
   "outputs": [
    {
     "data": {
      "text/plain": [
       "<matplotlib.legend.Legend at 0x1ff1828d2a0>"
      ]
     },
     "execution_count": 44,
     "metadata": {},
     "output_type": "execute_result"
    },
    {
     "data": {
      "image/png": "[encoded data removed]",
      "text/plain": [
       "<Figure size 360x360 with 1 Axes>"
      ]
     },
     "metadata": {
      "needs_background": "light"
     },
     "output_type": "display_data"
    }
   ],
   "source": [
    "plt.figure(figsize=(5, 5))\n",
    "\n",
    "plt.plot(df_scores.fpr, df_scores.tpr, label='Model')\n",
    "\n",
    "#Uncomment if you want to see the random plot\n",
    "#plt.plot(df_rand.fpr, df_rand.tpr, label = 'random')\n",
    "\n",
    "# The random plot, simplified as ultiamtely it's still quite linear despite some fluctuations\n",
    "plt.plot([0, 1], [0, 1], label='Random', linestyle='--')\n",
    "\n",
    "# Uncomment this if you want to see the ideal plot\n",
    "# We ultimately want our model plot to be as close to the ideal plot as possible\n",
    "#plt.plot(df_ideal.fpr, df_ideal.tpr, label = 'ideal')\n",
    "\n",
    "plt.xlabel('FPR')\n",
    "plt.ylabel('TPR')\n",
    "\n",
    "plt.legend()"
   ]
  },
  {
   "cell_type": "markdown",
   "id": "035f80be",
   "metadata": {
    "papermill": {
     "duration": 0.082474,
     "end_time": "2021-09-30T07:20:06.041501",
     "exception": false,
     "start_time": "2021-09-30T07:20:05.959027",
     "status": "completed"
    },
    "tags": []
   },
   "source": [
    "For a guideline:\n",
    "- The closer a model is to the ideal model, the better it is\n",
    "- If it's closer to the random model but still above the model, it is not very good.\n",
    "- Your model should NOT go below the random model itself, that means that there is something wrong."
   ]
  },
  {
   "cell_type": "code",
   "execution_count": 114,
   "id": "9ca4679a",
   "metadata": {
    "execution": {
     "iopub.execute_input": "2021-09-30T07:20:06.211646Z",
     "iopub.status.busy": "2021-09-30T07:20:06.211043Z",
     "iopub.status.idle": "2021-09-30T07:20:06.214657Z",
     "shell.execute_reply": "2021-09-30T07:20:06.215101Z",
     "shell.execute_reply.started": "2021-09-30T02:48:18.012115Z"
    },
    "papermill": {
     "duration": 0.089256,
     "end_time": "2021-09-30T07:20:06.215273",
     "exception": false,
     "start_time": "2021-09-30T07:20:06.126017",
     "status": "completed"
    },
    "tags": []
   },
   "outputs": [],
   "source": [
    "from sklearn.metrics import roc_curve"
   ]
  },
  {
   "cell_type": "code",
   "execution_count": 115,
   "id": "04315141",
   "metadata": {
    "execution": {
     "iopub.execute_input": "2021-09-30T07:20:06.383924Z",
     "iopub.status.busy": "2021-09-30T07:20:06.383285Z",
     "iopub.status.idle": "2021-09-30T07:20:06.391434Z",
     "shell.execute_reply": "2021-09-30T07:20:06.391884Z",
     "shell.execute_reply.started": "2021-09-30T02:48:18.017152Z"
    },
    "papermill": {
     "duration": 0.09407,
     "end_time": "2021-09-30T07:20:06.392048",
     "exception": false,
     "start_time": "2021-09-30T07:20:06.297978",
     "status": "completed"
    },
    "tags": []
   },
   "outputs": [],
   "source": [
    "fpr, tpr, thresholds = roc_curve(y_val, y_pred)"
   ]
  },
  {
   "cell_type": "code",
   "execution_count": 116,
   "id": "e239147f",
   "metadata": {
    "execution": {
     "iopub.execute_input": "2021-09-30T07:20:06.592168Z",
     "iopub.status.busy": "2021-09-30T07:20:06.591135Z",
     "iopub.status.idle": "2021-09-30T07:20:06.797083Z",
     "shell.execute_reply": "2021-09-30T07:20:06.797518Z",
     "shell.execute_reply.started": "2021-09-30T02:48:18.032145Z"
    },
    "papermill": {
     "duration": 0.322607,
     "end_time": "2021-09-30T07:20:06.797693",
     "exception": false,
     "start_time": "2021-09-30T07:20:06.475086",
     "status": "completed"
    },
    "tags": []
   },
   "outputs": [
    {
     "data": {
      "text/plain": [
       "<matplotlib.legend.Legend at 0x1ff142c7b80>"
      ]
     },
     "execution_count": 116,
     "metadata": {},
     "output_type": "execute_result"
    },
    {
     "data": {
      "image/png": "[encoded data removed]",
      "text/plain": [
       "<Figure size 360x360 with 1 Axes>"
      ]
     },
     "metadata": {
      "needs_background": "light"
     },
     "output_type": "display_data"
    }
   ],
   "source": [
    "plt.figure(figsize=(5, 5))\n",
    "\n",
    "plt.plot(fpr, tpr, label='Model')\n",
    "plt.plot([0, 1], [0, 1], label='Random', linestyle='--')\n",
    "\n",
    "plt.xlabel('FPR')\n",
    "plt.ylabel('TPR')\n",
    "\n",
    "plt.legend()"
   ]
  },
  {
   "cell_type": "markdown",
   "id": "90fd36c7",
   "metadata": {},
   "source": [
    "We want our model to be as close as posible to the top left corner, and as far as posible to the orange dashed line"
   ]
  },
  {
   "cell_type": "markdown",
   "id": "dbe10be1",
   "metadata": {
    "papermill": {
     "duration": 0.085562,
     "end_time": "2021-09-30T07:20:06.967715",
     "exception": false,
     "start_time": "2021-09-30T07:20:06.882153",
     "status": "completed"
    },
    "tags": []
   },
   "source": [
    "## 4.6 ROC AUC\n",
    "\n",
    "* Area under the ROC curve - useful metric\n",
    "* Interpretation of AUC"
   ]
  },
  {
   "cell_type": "markdown",
   "id": "e836aa4e",
   "metadata": {
    "papermill": {
     "duration": 0.085189,
     "end_time": "2021-09-30T07:20:07.137128",
     "exception": false,
     "start_time": "2021-09-30T07:20:07.051939",
     "status": "completed"
    },
    "tags": []
   },
   "source": [
    "The area under the curve is a very useful for the metric itself. To calculate the AUC, we will usually have to use calculus for this - but sklearn has a AUC function that doesn't need us to calculate the AUC. \n",
    "\n",
    "We should, however, consider what the value of the AUC should be: \n",
    "1. It should definitely be more than 0.5 - the random model* that we did has a area of 0.5. If it is less than 0.5, there is definitely a problem with the curve itself.\n",
    "2. It should be as close to 1 as possible. The AUC of the ideal model is 1, and while we can't always achieve the ideal model, we should bring it as close to the ideal model as possible. \n",
    "\n",
    "*= Reason why the random model has an area of 0.5 is because we consider it as a straight line. This means that we can calculate the area under the line itself as a 'triangle'. At FPR = 1, TPR also = 1, therefore the 'triangle' random model has a length of 1 and height of 1. Area of triangle = 0.5 * length * height, therefore AUC = 0.5."
   ]
  },
  {
   "cell_type": "code",
   "execution_count": 117,
   "id": "f46de477",
   "metadata": {
    "execution": {
     "iopub.execute_input": "2021-09-30T07:20:07.311501Z",
     "iopub.status.busy": "2021-09-30T07:20:07.310613Z",
     "iopub.status.idle": "2021-09-30T07:20:07.313134Z",
     "shell.execute_reply": "2021-09-30T07:20:07.313582Z",
     "shell.execute_reply.started": "2021-09-30T02:48:18.239636Z"
    },
    "papermill": {
     "duration": 0.092196,
     "end_time": "2021-09-30T07:20:07.313750",
     "exception": false,
     "start_time": "2021-09-30T07:20:07.221554",
     "status": "completed"
    },
    "tags": []
   },
   "outputs": [],
   "source": [
    "# Area Under Curve function\n",
    "# Do note that we can use any curve for this, not just the ROC curve \n",
    "from sklearn.metrics import auc"
   ]
  },
  {
   "cell_type": "code",
   "execution_count": 118,
   "id": "cd8c246e",
   "metadata": {
    "execution": {
     "iopub.execute_input": "2021-09-30T07:20:07.488921Z",
     "iopub.status.busy": "2021-09-30T07:20:07.488080Z",
     "iopub.status.idle": "2021-09-30T07:20:07.491921Z",
     "shell.execute_reply": "2021-09-30T07:20:07.491286Z",
     "shell.execute_reply.started": "2021-09-30T02:48:18.24772Z"
    },
    "papermill": {
     "duration": 0.093854,
     "end_time": "2021-09-30T07:20:07.492064",
     "exception": false,
     "start_time": "2021-09-30T07:20:07.398210",
     "status": "completed"
    },
    "tags": []
   },
   "outputs": [
    {
     "data": {
      "text/plain": [
       "0.8438682327199793"
      ]
     },
     "execution_count": 118,
     "metadata": {},
     "output_type": "execute_result"
    }
   ],
   "source": [
    "# AUC with our manually calculated values\n",
    "auc(fpr, tpr)"
   ]
  },
  {
   "cell_type": "code",
   "execution_count": 119,
   "id": "b23fe4fa",
   "metadata": {
    "execution": {
     "iopub.execute_input": "2021-09-30T07:20:07.668145Z",
     "iopub.status.busy": "2021-09-30T07:20:07.667459Z",
     "iopub.status.idle": "2021-09-30T07:20:07.670633Z",
     "shell.execute_reply": "2021-09-30T07:20:07.671108Z",
     "shell.execute_reply.started": "2021-09-30T02:48:18.260359Z"
    },
    "papermill": {
     "duration": 0.094643,
     "end_time": "2021-09-30T07:20:07.671273",
     "exception": false,
     "start_time": "2021-09-30T07:20:07.576630",
     "status": "completed"
    },
    "tags": []
   },
   "outputs": [
    {
     "data": {
      "text/plain": [
       "0.8437770653214409"
      ]
     },
     "execution_count": 119,
     "metadata": {},
     "output_type": "execute_result"
    }
   ],
   "source": [
    "# Via sklearn, this is slightly more accurate.\n",
    "auc(df_scores.fpr, df_scores.tpr)"
   ]
  },
  {
   "cell_type": "code",
   "execution_count": 120,
   "id": "3c57202e",
   "metadata": {
    "execution": {
     "iopub.execute_input": "2021-09-30T07:20:07.848110Z",
     "iopub.status.busy": "2021-09-30T07:20:07.847436Z",
     "iopub.status.idle": "2021-09-30T07:20:07.849892Z",
     "shell.execute_reply": "2021-09-30T07:20:07.850364Z",
     "shell.execute_reply.started": "2021-09-30T02:48:18.274765Z"
    },
    "papermill": {
     "duration": 0.093561,
     "end_time": "2021-09-30T07:20:07.850518",
     "exception": false,
     "start_time": "2021-09-30T07:20:07.756957",
     "status": "completed"
    },
    "tags": []
   },
   "outputs": [
    {
     "data": {
      "text/plain": [
       "0.9999430203759136"
      ]
     },
     "execution_count": 120,
     "metadata": {},
     "output_type": "execute_result"
    }
   ],
   "source": [
    "# AUC under ideal ROC curve\n",
    "# The AUC is not 1 since we manually calculated it ourselves.\n",
    "auc(df_ideal.fpr, df_ideal.tpr)"
   ]
  },
  {
   "cell_type": "code",
   "execution_count": 121,
   "id": "b0bba2b2",
   "metadata": {
    "execution": {
     "iopub.execute_input": "2021-09-30T07:20:08.027372Z",
     "iopub.status.busy": "2021-09-30T07:20:08.026577Z",
     "iopub.status.idle": "2021-09-30T07:20:08.029646Z",
     "shell.execute_reply": "2021-09-30T07:20:08.030136Z",
     "shell.execute_reply.started": "2021-09-30T02:48:18.286266Z"
    },
    "papermill": {
     "duration": 0.094824,
     "end_time": "2021-09-30T07:20:08.030288",
     "exception": false,
     "start_time": "2021-09-30T07:20:07.935464",
     "status": "completed"
    },
    "tags": []
   },
   "outputs": [
    {
     "data": {
      "text/plain": [
       "0.8438682327199793"
      ]
     },
     "execution_count": 121,
     "metadata": {},
     "output_type": "execute_result"
    }
   ],
   "source": [
    "# Explanation for the roc_auc_score function itself! \n",
    "fpr, tpr, thresholds = roc_curve(y_val, y_pred)\n",
    "auc(fpr, tpr)"
   ]
  },
  {
   "cell_type": "code",
   "execution_count": 122,
   "id": "3f2c5c01",
   "metadata": {
    "execution": {
     "iopub.execute_input": "2021-09-30T07:20:08.206179Z",
     "iopub.status.busy": "2021-09-30T07:20:08.204773Z",
     "iopub.status.idle": "2021-09-30T07:20:08.209801Z",
     "shell.execute_reply": "2021-09-30T07:20:08.209315Z",
     "shell.execute_reply.started": "2021-09-30T02:48:18.300949Z"
    },
    "papermill": {
     "duration": 0.093728,
     "end_time": "2021-09-30T07:20:08.209955",
     "exception": false,
     "start_time": "2021-09-30T07:20:08.116227",
     "status": "completed"
    },
    "tags": []
   },
   "outputs": [],
   "source": [
    "from sklearn.metrics import roc_auc_score"
   ]
  },
  {
   "cell_type": "code",
   "execution_count": 123,
   "id": "31ed4db3",
   "metadata": {
    "execution": {
     "iopub.execute_input": "2021-09-30T07:20:08.391058Z",
     "iopub.status.busy": "2021-09-30T07:20:08.390139Z",
     "iopub.status.idle": "2021-09-30T07:20:08.393355Z",
     "shell.execute_reply": "2021-09-30T07:20:08.394030Z",
     "shell.execute_reply.started": "2021-09-30T02:48:18.309329Z"
    },
    "papermill": {
     "duration": 0.096846,
     "end_time": "2021-09-30T07:20:08.394217",
     "exception": false,
     "start_time": "2021-09-30T07:20:08.297371",
     "status": "completed"
    },
    "tags": []
   },
   "outputs": [
    {
     "data": {
      "text/plain": [
       "0.8438682327199793"
      ]
     },
     "execution_count": 123,
     "metadata": {},
     "output_type": "execute_result"
    }
   ],
   "source": [
    "roc_auc_score(y_val, y_pred)"
   ]
  },
  {
   "cell_type": "code",
   "execution_count": 124,
   "id": "58d25d08",
   "metadata": {
    "execution": {
     "iopub.execute_input": "2021-09-30T07:20:08.571114Z",
     "iopub.status.busy": "2021-09-30T07:20:08.569249Z",
     "iopub.status.idle": "2021-09-30T07:20:08.573793Z",
     "shell.execute_reply": "2021-09-30T07:20:08.573259Z",
     "shell.execute_reply.started": "2021-09-30T02:48:18.324568Z"
    },
    "papermill": {
     "duration": 0.093535,
     "end_time": "2021-09-30T07:20:08.573959",
     "exception": false,
     "start_time": "2021-09-30T07:20:08.480424",
     "status": "completed"
    },
    "tags": []
   },
   "outputs": [],
   "source": [
    "neg = y_pred[y_val == 0]\n",
    "pos = y_pred[y_val == 1]"
   ]
  },
  {
   "cell_type": "code",
   "execution_count": 125,
   "id": "5ea88f3c",
   "metadata": {
    "execution": {
     "iopub.execute_input": "2021-09-30T07:20:08.750157Z",
     "iopub.status.busy": "2021-09-30T07:20:08.749493Z",
     "iopub.status.idle": "2021-09-30T07:20:08.752445Z",
     "shell.execute_reply": "2021-09-30T07:20:08.751831Z",
     "shell.execute_reply.started": "2021-09-30T02:48:18.33195Z"
    },
    "papermill": {
     "duration": 0.092737,
     "end_time": "2021-09-30T07:20:08.752572",
     "exception": false,
     "start_time": "2021-09-30T07:20:08.659835",
     "status": "completed"
    },
    "tags": []
   },
   "outputs": [],
   "source": [
    "import random"
   ]
  },
  {
   "cell_type": "markdown",
   "id": "38aa9254",
   "metadata": {
    "papermill": {
     "duration": 0.085343,
     "end_time": "2021-09-30T07:20:08.923974",
     "exception": false,
     "start_time": "2021-09-30T07:20:08.838631",
     "status": "completed"
    },
    "tags": []
   },
   "source": [
    "Ok, but what does AUC actually tell us? \n",
    "\n",
    "AUC tells us the probability that a randomly selected positive example has a higher score than a randomly selected negative exmaple."
   ]
  },
  {
   "cell_type": "code",
   "execution_count": 126,
   "id": "07712f17",
   "metadata": {
    "execution": {
     "iopub.execute_input": "2021-09-30T07:20:09.115442Z",
     "iopub.status.busy": "2021-09-30T07:20:09.114760Z",
     "iopub.status.idle": "2021-09-30T07:20:09.678448Z",
     "shell.execute_reply": "2021-09-30T07:20:09.677985Z",
     "shell.execute_reply.started": "2021-09-30T02:48:18.346446Z"
    },
    "papermill": {
     "duration": 0.668968,
     "end_time": "2021-09-30T07:20:09.678614",
     "exception": false,
     "start_time": "2021-09-30T07:20:09.009646",
     "status": "completed"
    },
    "tags": []
   },
   "outputs": [
    {
     "data": {
      "text/plain": [
       "0.84414"
      ]
     },
     "execution_count": 126,
     "metadata": {},
     "output_type": "execute_result"
    }
   ],
   "source": [
    "n = 100000\n",
    "success = 0 \n",
    "\n",
    "# random.randint returns random integer in range, including both the end points \n",
    "for i in range(n):\n",
    "    # Calling the index of a random positive decision & random negative decision\n",
    "    pos_ind = random.randint(0, len(pos) - 1)\n",
    "    neg_ind = random.randint(0, len(neg) - 1)\n",
    "    \n",
    "    # If randomly selected positive example has a higher score than a randomly selected negative example, +1\n",
    "    if pos[pos_ind] > neg[neg_ind]:\n",
    "        success = success + 1\n",
    "\n",
    "# Number of successes / total number of times. We can tell that it's rather close to our AUC metric\n",
    "success / n"
   ]
  },
  {
   "cell_type": "code",
   "execution_count": 128,
   "id": "77247416",
   "metadata": {
    "execution": {
     "iopub.execute_input": "2021-09-30T07:20:09.854787Z",
     "iopub.status.busy": "2021-09-30T07:20:09.853726Z",
     "iopub.status.idle": "2021-09-30T07:20:09.864001Z",
     "shell.execute_reply": "2021-09-30T07:20:09.863375Z",
     "shell.execute_reply.started": "2021-09-30T02:48:18.883036Z"
    },
    "papermill": {
     "duration": 0.099328,
     "end_time": "2021-09-30T07:20:09.864135",
     "exception": false,
     "start_time": "2021-09-30T07:20:09.764807",
     "status": "completed"
    },
    "tags": []
   },
   "outputs": [
    {
     "data": {
      "text/plain": [
       "0.84654"
      ]
     },
     "execution_count": 128,
     "metadata": {},
     "output_type": "execute_result"
    }
   ],
   "source": [
    "# Using numpy instead\n",
    "n = 50000\n",
    "\n",
    "np.random.seed(1)\n",
    "pos_ind = np.random.randint(0, len(pos), size=n)\n",
    "neg_ind = np.random.randint(0, len(neg), size=n)\n",
    "\n",
    "(pos[pos_ind] > neg[neg_ind]).mean()\n",
    "\n",
    "# Do note that the size of n will influence how close the AUC score is to the actual AUC score."
   ]
  },
  {
   "cell_type": "markdown",
   "id": "6d0bf098",
   "metadata": {
    "papermill": {
     "duration": 0.08634,
     "end_time": "2021-09-30T07:20:10.039232",
     "exception": false,
     "start_time": "2021-09-30T07:20:09.952892",
     "status": "completed"
    },
    "tags": []
   },
   "source": [
    "## 4.7 Cross-Validation\n",
    "\n",
    "* Evaluating the same model on different subsets of data\n",
    "* Getting the average prediction and the spread within predictions"
   ]
  },
  {
   "cell_type": "markdown",
   "id": "62b6520f",
   "metadata": {
    "papermill": {
     "duration": 0.086077,
     "end_time": "2021-09-30T07:20:10.213241",
     "exception": false,
     "start_time": "2021-09-30T07:20:10.127164",
     "status": "completed"
    },
    "tags": []
   },
   "source": [
    "We use the full train dataset for cross-validation, leaving away the test dataset.\n",
    "\n",
    "We split it into k parts and use different parts such that we're able to use different parts for training and validate in on another part. This is known as a fold.\n",
    "\n",
    "After that, we record the metric used for the model itself. Once we have finished all our folds, we will be able to calculate things like the average metric and the standard deviation of the metrics.\n",
    "\n",
    "For example: k = 3,\n",
    "- We use parts 1 and 2 for training, and validating for part 3, recording the metric.\n",
    "- We then use parts 1 and 3 for training, and validating for part 2, recording the metric.\n",
    "- Finally we use parts 2 and 3 for training, and validating for part 1, recording the metric. "
   ]
  },
  {
   "cell_type": "code",
   "execution_count": 129,
   "id": "8d260f69",
   "metadata": {
    "execution": {
     "iopub.execute_input": "2021-09-30T07:20:10.392705Z",
     "iopub.status.busy": "2021-09-30T07:20:10.392069Z",
     "iopub.status.idle": "2021-09-30T07:20:10.394391Z",
     "shell.execute_reply": "2021-09-30T07:20:10.393796Z",
     "shell.execute_reply.started": "2021-09-30T02:48:18.895852Z"
    },
    "papermill": {
     "duration": 0.094082,
     "end_time": "2021-09-30T07:20:10.394520",
     "exception": false,
     "start_time": "2021-09-30T07:20:10.300438",
     "status": "completed"
    },
    "tags": []
   },
   "outputs": [],
   "source": [
    "# Preprocessing + training of model\n",
    "def train(df_train, y_train, C=1.0):\n",
    "    dicts = df_train[categorical + numerical].to_dict(orient='records')\n",
    "\n",
    "    dv = DictVectorizer(sparse=False)\n",
    "    X_train = dv.fit_transform(dicts)\n",
    "\n",
    "    model = LogisticRegression(C=C, max_iter=1000)\n",
    "    model.fit(X_train, y_train)\n",
    "    \n",
    "    return dv, model"
   ]
  },
  {
   "cell_type": "code",
   "execution_count": 130,
   "id": "0bcb848e",
   "metadata": {
    "execution": {
     "iopub.execute_input": "2021-09-30T07:20:10.571966Z",
     "iopub.status.busy": "2021-09-30T07:20:10.571311Z",
     "iopub.status.idle": "2021-09-30T07:20:10.883540Z",
     "shell.execute_reply": "2021-09-30T07:20:10.884382Z",
     "shell.execute_reply.started": "2021-09-30T03:22:49.675256Z"
    },
    "papermill": {
     "duration": 0.403496,
     "end_time": "2021-09-30T07:20:10.884672",
     "exception": false,
     "start_time": "2021-09-30T07:20:10.481176",
     "status": "completed"
    },
    "tags": []
   },
   "outputs": [],
   "source": [
    "dv, model = train(df_train, y_train, C=0.001)"
   ]
  },
  {
   "cell_type": "code",
   "execution_count": 131,
   "id": "93516519",
   "metadata": {
    "execution": {
     "iopub.execute_input": "2021-09-30T07:20:11.118873Z",
     "iopub.status.busy": "2021-09-30T07:20:11.118274Z",
     "iopub.status.idle": "2021-09-30T07:20:11.120291Z",
     "shell.execute_reply": "2021-09-30T07:20:11.120796Z",
     "shell.execute_reply.started": "2021-09-30T02:48:19.230521Z"
    },
    "papermill": {
     "duration": 0.095956,
     "end_time": "2021-09-30T07:20:11.120982",
     "exception": false,
     "start_time": "2021-09-30T07:20:11.025026",
     "status": "completed"
    },
    "tags": []
   },
   "outputs": [],
   "source": [
    "# Prediction of y values\n",
    "def predict(df, dv, model):\n",
    "    dicts = df[categorical + numerical].to_dict(orient='records')\n",
    "\n",
    "    X = dv.transform(dicts)\n",
    "    y_pred = model.predict_proba(X)[:, 1]\n",
    "\n",
    "    return y_pred"
   ]
  },
  {
   "cell_type": "code",
   "execution_count": 132,
   "id": "710c2b6b",
   "metadata": {
    "execution": {
     "iopub.execute_input": "2021-09-30T07:20:11.332390Z",
     "iopub.status.busy": "2021-09-30T07:20:11.297916Z",
     "iopub.status.idle": "2021-09-30T07:20:11.378159Z",
     "shell.execute_reply": "2021-09-30T07:20:11.378997Z",
     "shell.execute_reply.started": "2021-09-30T02:48:19.249134Z"
    },
    "papermill": {
     "duration": 0.170776,
     "end_time": "2021-09-30T07:20:11.379309",
     "exception": false,
     "start_time": "2021-09-30T07:20:11.208533",
     "status": "completed"
    },
    "tags": []
   },
   "outputs": [],
   "source": [
    "y_pred = predict(df_val, dv, model)"
   ]
  },
  {
   "cell_type": "code",
   "execution_count": 133,
   "id": "262fb13a",
   "metadata": {
    "execution": {
     "iopub.execute_input": "2021-09-30T07:20:11.616935Z",
     "iopub.status.busy": "2021-09-30T07:20:11.616289Z",
     "iopub.status.idle": "2021-09-30T07:20:11.619147Z",
     "shell.execute_reply": "2021-09-30T07:20:11.618637Z",
     "shell.execute_reply.started": "2021-09-30T02:48:19.375682Z"
    },
    "papermill": {
     "duration": 0.100032,
     "end_time": "2021-09-30T07:20:11.619286",
     "exception": false,
     "start_time": "2021-09-30T07:20:11.519254",
     "status": "completed"
    },
    "tags": []
   },
   "outputs": [],
   "source": [
    "from sklearn.model_selection import KFold"
   ]
  },
  {
   "cell_type": "code",
   "execution_count": 134,
   "id": "396dd5eb",
   "metadata": {
    "execution": {
     "iopub.execute_input": "2021-09-30T07:20:21.034714Z",
     "iopub.status.busy": "2021-09-30T07:20:21.034065Z",
     "iopub.status.idle": "2021-09-30T07:20:21.109704Z",
     "shell.execute_reply": "2021-09-30T07:20:21.110207Z",
     "shell.execute_reply.started": "2021-09-30T02:48:28.504255Z"
    },
    "papermill": {
     "duration": 0.168765,
     "end_time": "2021-09-30T07:20:21.110517",
     "exception": false,
     "start_time": "2021-09-30T07:20:20.941752",
     "status": "completed"
    },
    "tags": []
   },
   "outputs": [],
   "source": [
    "# tqdm allows you to see the process for each iteration \n",
    "from tqdm.auto import tqdm"
   ]
  },
  {
   "cell_type": "code",
   "execution_count": 135,
   "id": "4ac0d4ed",
   "metadata": {
    "execution": {
     "iopub.execute_input": "2021-09-30T07:20:21.288296Z",
     "iopub.status.busy": "2021-09-30T07:20:21.287662Z",
     "iopub.status.idle": "2021-09-30T07:20:44.725741Z",
     "shell.execute_reply": "2021-09-30T07:20:44.726594Z",
     "shell.execute_reply.started": "2021-09-30T02:48:28.578387Z"
    },
    "papermill": {
     "duration": 23.528937,
     "end_time": "2021-09-30T07:20:44.726895",
     "exception": false,
     "start_time": "2021-09-30T07:20:21.197958",
     "status": "completed"
    },
    "tags": []
   },
   "outputs": [
    {
     "data": {
      "application/vnd.jupyter.widget-view+json": {
       "model_id": "747806f0327d445abdd5263304f326fb",
       "version_major": 2,
       "version_minor": 0
      },
      "text/plain": [
       "  0%|          | 0/7 [00:00<?, ?it/s]"
      ]
     },
     "metadata": {},
     "output_type": "display_data"
    },
    {
     "name": "stdout",
     "output_type": "stream",
     "text": [
      "C=0.001 0.825 +- 0.009\n"
     ]
    },
    {
     "name": "stderr",
     "output_type": "stream",
     "text": [
      "c:\\Users\\begon\\AppData\\Local\\Programs\\Python\\Python310\\lib\\site-packages\\sklearn\\linear_model\\_logistic.py:469: ConvergenceWarning: lbfgs failed to converge (status=1):\n",
      "STOP: TOTAL NO. of ITERATIONS REACHED LIMIT.\n",
      "\n",
      "Increase the number of iterations (max_iter) or scale the data as shown in:\n",
      "    https://scikit-learn.org/stable/modules/preprocessing.html\n",
      "Please also refer to the documentation for alternative solver options:\n",
      "    https://scikit-learn.org/stable/modules/linear_model.html#logistic-regression\n",
      "  n_iter_i = _check_optimize_result(\n",
      "c:\\Users\\begon\\AppData\\Local\\Programs\\Python\\Python310\\lib\\site-packages\\sklearn\\linear_model\\_logistic.py:469: ConvergenceWarning: lbfgs failed to converge (status=1):\n",
      "STOP: TOTAL NO. of ITERATIONS REACHED LIMIT.\n",
      "\n",
      "Increase the number of iterations (max_iter) or scale the data as shown in:\n",
      "    https://scikit-learn.org/stable/modules/preprocessing.html\n",
      "Please also refer to the documentation for alternative solver options:\n",
      "    https://scikit-learn.org/stable/modules/linear_model.html#logistic-regression\n",
      "  n_iter_i = _check_optimize_result(\n",
      "c:\\Users\\begon\\AppData\\Local\\Programs\\Python\\Python310\\lib\\site-packages\\sklearn\\linear_model\\_logistic.py:469: ConvergenceWarning: lbfgs failed to converge (status=1):\n",
      "STOP: TOTAL NO. of ITERATIONS REACHED LIMIT.\n",
      "\n",
      "Increase the number of iterations (max_iter) or scale the data as shown in:\n",
      "    https://scikit-learn.org/stable/modules/preprocessing.html\n",
      "Please also refer to the documentation for alternative solver options:\n",
      "    https://scikit-learn.org/stable/modules/linear_model.html#logistic-regression\n",
      "  n_iter_i = _check_optimize_result(\n",
      "c:\\Users\\begon\\AppData\\Local\\Programs\\Python\\Python310\\lib\\site-packages\\sklearn\\linear_model\\_logistic.py:469: ConvergenceWarning: lbfgs failed to converge (status=1):\n",
      "STOP: TOTAL NO. of ITERATIONS REACHED LIMIT.\n",
      "\n",
      "Increase the number of iterations (max_iter) or scale the data as shown in:\n",
      "    https://scikit-learn.org/stable/modules/preprocessing.html\n",
      "Please also refer to the documentation for alternative solver options:\n",
      "    https://scikit-learn.org/stable/modules/linear_model.html#logistic-regression\n",
      "  n_iter_i = _check_optimize_result(\n"
     ]
    },
    {
     "name": "stdout",
     "output_type": "stream",
     "text": [
      "C=0.01 0.840 +- 0.008\n"
     ]
    },
    {
     "name": "stderr",
     "output_type": "stream",
     "text": [
      "c:\\Users\\begon\\AppData\\Local\\Programs\\Python\\Python310\\lib\\site-packages\\sklearn\\linear_model\\_logistic.py:469: ConvergenceWarning: lbfgs failed to converge (status=1):\n",
      "STOP: TOTAL NO. of ITERATIONS REACHED LIMIT.\n",
      "\n",
      "Increase the number of iterations (max_iter) or scale the data as shown in:\n",
      "    https://scikit-learn.org/stable/modules/preprocessing.html\n",
      "Please also refer to the documentation for alternative solver options:\n",
      "    https://scikit-learn.org/stable/modules/linear_model.html#logistic-regression\n",
      "  n_iter_i = _check_optimize_result(\n",
      "c:\\Users\\begon\\AppData\\Local\\Programs\\Python\\Python310\\lib\\site-packages\\sklearn\\linear_model\\_logistic.py:469: ConvergenceWarning: lbfgs failed to converge (status=1):\n",
      "STOP: TOTAL NO. of ITERATIONS REACHED LIMIT.\n",
      "\n",
      "Increase the number of iterations (max_iter) or scale the data as shown in:\n",
      "    https://scikit-learn.org/stable/modules/preprocessing.html\n",
      "Please also refer to the documentation for alternative solver options:\n",
      "    https://scikit-learn.org/stable/modules/linear_model.html#logistic-regression\n",
      "  n_iter_i = _check_optimize_result(\n",
      "c:\\Users\\begon\\AppData\\Local\\Programs\\Python\\Python310\\lib\\site-packages\\sklearn\\linear_model\\_logistic.py:469: ConvergenceWarning: lbfgs failed to converge (status=1):\n",
      "STOP: TOTAL NO. of ITERATIONS REACHED LIMIT.\n",
      "\n",
      "Increase the number of iterations (max_iter) or scale the data as shown in:\n",
      "    https://scikit-learn.org/stable/modules/preprocessing.html\n",
      "Please also refer to the documentation for alternative solver options:\n",
      "    https://scikit-learn.org/stable/modules/linear_model.html#logistic-regression\n",
      "  n_iter_i = _check_optimize_result(\n",
      "c:\\Users\\begon\\AppData\\Local\\Programs\\Python\\Python310\\lib\\site-packages\\sklearn\\linear_model\\_logistic.py:469: ConvergenceWarning: lbfgs failed to converge (status=1):\n",
      "STOP: TOTAL NO. of ITERATIONS REACHED LIMIT.\n",
      "\n",
      "Increase the number of iterations (max_iter) or scale the data as shown in:\n",
      "    https://scikit-learn.org/stable/modules/preprocessing.html\n",
      "Please also refer to the documentation for alternative solver options:\n",
      "    https://scikit-learn.org/stable/modules/linear_model.html#logistic-regression\n",
      "  n_iter_i = _check_optimize_result(\n",
      "c:\\Users\\begon\\AppData\\Local\\Programs\\Python\\Python310\\lib\\site-packages\\sklearn\\linear_model\\_logistic.py:469: ConvergenceWarning: lbfgs failed to converge (status=1):\n",
      "STOP: TOTAL NO. of ITERATIONS REACHED LIMIT.\n",
      "\n",
      "Increase the number of iterations (max_iter) or scale the data as shown in:\n",
      "    https://scikit-learn.org/stable/modules/preprocessing.html\n",
      "Please also refer to the documentation for alternative solver options:\n",
      "    https://scikit-learn.org/stable/modules/linear_model.html#logistic-regression\n",
      "  n_iter_i = _check_optimize_result(\n"
     ]
    },
    {
     "name": "stdout",
     "output_type": "stream",
     "text": [
      "C=0.1 0.842 +- 0.007\n"
     ]
    },
    {
     "name": "stderr",
     "output_type": "stream",
     "text": [
      "c:\\Users\\begon\\AppData\\Local\\Programs\\Python\\Python310\\lib\\site-packages\\sklearn\\linear_model\\_logistic.py:469: ConvergenceWarning: lbfgs failed to converge (status=1):\n",
      "STOP: TOTAL NO. of ITERATIONS REACHED LIMIT.\n",
      "\n",
      "Increase the number of iterations (max_iter) or scale the data as shown in:\n",
      "    https://scikit-learn.org/stable/modules/preprocessing.html\n",
      "Please also refer to the documentation for alternative solver options:\n",
      "    https://scikit-learn.org/stable/modules/linear_model.html#logistic-regression\n",
      "  n_iter_i = _check_optimize_result(\n",
      "c:\\Users\\begon\\AppData\\Local\\Programs\\Python\\Python310\\lib\\site-packages\\sklearn\\linear_model\\_logistic.py:469: ConvergenceWarning: lbfgs failed to converge (status=1):\n",
      "STOP: TOTAL NO. of ITERATIONS REACHED LIMIT.\n",
      "\n",
      "Increase the number of iterations (max_iter) or scale the data as shown in:\n",
      "    https://scikit-learn.org/stable/modules/preprocessing.html\n",
      "Please also refer to the documentation for alternative solver options:\n",
      "    https://scikit-learn.org/stable/modules/linear_model.html#logistic-regression\n",
      "  n_iter_i = _check_optimize_result(\n",
      "c:\\Users\\begon\\AppData\\Local\\Programs\\Python\\Python310\\lib\\site-packages\\sklearn\\linear_model\\_logistic.py:469: ConvergenceWarning: lbfgs failed to converge (status=1):\n",
      "STOP: TOTAL NO. of ITERATIONS REACHED LIMIT.\n",
      "\n",
      "Increase the number of iterations (max_iter) or scale the data as shown in:\n",
      "    https://scikit-learn.org/stable/modules/preprocessing.html\n",
      "Please also refer to the documentation for alternative solver options:\n",
      "    https://scikit-learn.org/stable/modules/linear_model.html#logistic-regression\n",
      "  n_iter_i = _check_optimize_result(\n"
     ]
    },
    {
     "name": "stdout",
     "output_type": "stream",
     "text": [
      "C=0.5 0.842 +- 0.007\n"
     ]
    },
    {
     "name": "stderr",
     "output_type": "stream",
     "text": [
      "c:\\Users\\begon\\AppData\\Local\\Programs\\Python\\Python310\\lib\\site-packages\\sklearn\\linear_model\\_logistic.py:469: ConvergenceWarning: lbfgs failed to converge (status=1):\n",
      "STOP: TOTAL NO. of ITERATIONS REACHED LIMIT.\n",
      "\n",
      "Increase the number of iterations (max_iter) or scale the data as shown in:\n",
      "    https://scikit-learn.org/stable/modules/preprocessing.html\n",
      "Please also refer to the documentation for alternative solver options:\n",
      "    https://scikit-learn.org/stable/modules/linear_model.html#logistic-regression\n",
      "  n_iter_i = _check_optimize_result(\n",
      "c:\\Users\\begon\\AppData\\Local\\Programs\\Python\\Python310\\lib\\site-packages\\sklearn\\linear_model\\_logistic.py:469: ConvergenceWarning: lbfgs failed to converge (status=1):\n",
      "STOP: TOTAL NO. of ITERATIONS REACHED LIMIT.\n",
      "\n",
      "Increase the number of iterations (max_iter) or scale the data as shown in:\n",
      "    https://scikit-learn.org/stable/modules/preprocessing.html\n",
      "Please also refer to the documentation for alternative solver options:\n",
      "    https://scikit-learn.org/stable/modules/linear_model.html#logistic-regression\n",
      "  n_iter_i = _check_optimize_result(\n",
      "c:\\Users\\begon\\AppData\\Local\\Programs\\Python\\Python310\\lib\\site-packages\\sklearn\\linear_model\\_logistic.py:469: ConvergenceWarning: lbfgs failed to converge (status=1):\n",
      "STOP: TOTAL NO. of ITERATIONS REACHED LIMIT.\n",
      "\n",
      "Increase the number of iterations (max_iter) or scale the data as shown in:\n",
      "    https://scikit-learn.org/stable/modules/preprocessing.html\n",
      "Please also refer to the documentation for alternative solver options:\n",
      "    https://scikit-learn.org/stable/modules/linear_model.html#logistic-regression\n",
      "  n_iter_i = _check_optimize_result(\n",
      "c:\\Users\\begon\\AppData\\Local\\Programs\\Python\\Python310\\lib\\site-packages\\sklearn\\linear_model\\_logistic.py:469: ConvergenceWarning: lbfgs failed to converge (status=1):\n",
      "STOP: TOTAL NO. of ITERATIONS REACHED LIMIT.\n",
      "\n",
      "Increase the number of iterations (max_iter) or scale the data as shown in:\n",
      "    https://scikit-learn.org/stable/modules/preprocessing.html\n",
      "Please also refer to the documentation for alternative solver options:\n",
      "    https://scikit-learn.org/stable/modules/linear_model.html#logistic-regression\n",
      "  n_iter_i = _check_optimize_result(\n"
     ]
    },
    {
     "name": "stdout",
     "output_type": "stream",
     "text": [
      "C=1 0.842 +- 0.007\n"
     ]
    },
    {
     "name": "stderr",
     "output_type": "stream",
     "text": [
      "c:\\Users\\begon\\AppData\\Local\\Programs\\Python\\Python310\\lib\\site-packages\\sklearn\\linear_model\\_logistic.py:469: ConvergenceWarning: lbfgs failed to converge (status=1):\n",
      "STOP: TOTAL NO. of ITERATIONS REACHED LIMIT.\n",
      "\n",
      "Increase the number of iterations (max_iter) or scale the data as shown in:\n",
      "    https://scikit-learn.org/stable/modules/preprocessing.html\n",
      "Please also refer to the documentation for alternative solver options:\n",
      "    https://scikit-learn.org/stable/modules/linear_model.html#logistic-regression\n",
      "  n_iter_i = _check_optimize_result(\n",
      "c:\\Users\\begon\\AppData\\Local\\Programs\\Python\\Python310\\lib\\site-packages\\sklearn\\linear_model\\_logistic.py:469: ConvergenceWarning: lbfgs failed to converge (status=1):\n",
      "STOP: TOTAL NO. of ITERATIONS REACHED LIMIT.\n",
      "\n",
      "Increase the number of iterations (max_iter) or scale the data as shown in:\n",
      "    https://scikit-learn.org/stable/modules/preprocessing.html\n",
      "Please also refer to the documentation for alternative solver options:\n",
      "    https://scikit-learn.org/stable/modules/linear_model.html#logistic-regression\n",
      "  n_iter_i = _check_optimize_result(\n",
      "c:\\Users\\begon\\AppData\\Local\\Programs\\Python\\Python310\\lib\\site-packages\\sklearn\\linear_model\\_logistic.py:469: ConvergenceWarning: lbfgs failed to converge (status=1):\n",
      "STOP: TOTAL NO. of ITERATIONS REACHED LIMIT.\n",
      "\n",
      "Increase the number of iterations (max_iter) or scale the data as shown in:\n",
      "    https://scikit-learn.org/stable/modules/preprocessing.html\n",
      "Please also refer to the documentation for alternative solver options:\n",
      "    https://scikit-learn.org/stable/modules/linear_model.html#logistic-regression\n",
      "  n_iter_i = _check_optimize_result(\n",
      "c:\\Users\\begon\\AppData\\Local\\Programs\\Python\\Python310\\lib\\site-packages\\sklearn\\linear_model\\_logistic.py:469: ConvergenceWarning: lbfgs failed to converge (status=1):\n",
      "STOP: TOTAL NO. of ITERATIONS REACHED LIMIT.\n",
      "\n",
      "Increase the number of iterations (max_iter) or scale the data as shown in:\n",
      "    https://scikit-learn.org/stable/modules/preprocessing.html\n",
      "Please also refer to the documentation for alternative solver options:\n",
      "    https://scikit-learn.org/stable/modules/linear_model.html#logistic-regression\n",
      "  n_iter_i = _check_optimize_result(\n",
      "c:\\Users\\begon\\AppData\\Local\\Programs\\Python\\Python310\\lib\\site-packages\\sklearn\\linear_model\\_logistic.py:469: ConvergenceWarning: lbfgs failed to converge (status=1):\n",
      "STOP: TOTAL NO. of ITERATIONS REACHED LIMIT.\n",
      "\n",
      "Increase the number of iterations (max_iter) or scale the data as shown in:\n",
      "    https://scikit-learn.org/stable/modules/preprocessing.html\n",
      "Please also refer to the documentation for alternative solver options:\n",
      "    https://scikit-learn.org/stable/modules/linear_model.html#logistic-regression\n",
      "  n_iter_i = _check_optimize_result(\n"
     ]
    },
    {
     "name": "stdout",
     "output_type": "stream",
     "text": [
      "C=5 0.842 +- 0.007\n"
     ]
    },
    {
     "name": "stderr",
     "output_type": "stream",
     "text": [
      "c:\\Users\\begon\\AppData\\Local\\Programs\\Python\\Python310\\lib\\site-packages\\sklearn\\linear_model\\_logistic.py:469: ConvergenceWarning: lbfgs failed to converge (status=1):\n",
      "STOP: TOTAL NO. of ITERATIONS REACHED LIMIT.\n",
      "\n",
      "Increase the number of iterations (max_iter) or scale the data as shown in:\n",
      "    https://scikit-learn.org/stable/modules/preprocessing.html\n",
      "Please also refer to the documentation for alternative solver options:\n",
      "    https://scikit-learn.org/stable/modules/linear_model.html#logistic-regression\n",
      "  n_iter_i = _check_optimize_result(\n",
      "c:\\Users\\begon\\AppData\\Local\\Programs\\Python\\Python310\\lib\\site-packages\\sklearn\\linear_model\\_logistic.py:469: ConvergenceWarning: lbfgs failed to converge (status=1):\n",
      "STOP: TOTAL NO. of ITERATIONS REACHED LIMIT.\n",
      "\n",
      "Increase the number of iterations (max_iter) or scale the data as shown in:\n",
      "    https://scikit-learn.org/stable/modules/preprocessing.html\n",
      "Please also refer to the documentation for alternative solver options:\n",
      "    https://scikit-learn.org/stable/modules/linear_model.html#logistic-regression\n",
      "  n_iter_i = _check_optimize_result(\n",
      "c:\\Users\\begon\\AppData\\Local\\Programs\\Python\\Python310\\lib\\site-packages\\sklearn\\linear_model\\_logistic.py:469: ConvergenceWarning: lbfgs failed to converge (status=1):\n",
      "STOP: TOTAL NO. of ITERATIONS REACHED LIMIT.\n",
      "\n",
      "Increase the number of iterations (max_iter) or scale the data as shown in:\n",
      "    https://scikit-learn.org/stable/modules/preprocessing.html\n",
      "Please also refer to the documentation for alternative solver options:\n",
      "    https://scikit-learn.org/stable/modules/linear_model.html#logistic-regression\n",
      "  n_iter_i = _check_optimize_result(\n",
      "c:\\Users\\begon\\AppData\\Local\\Programs\\Python\\Python310\\lib\\site-packages\\sklearn\\linear_model\\_logistic.py:469: ConvergenceWarning: lbfgs failed to converge (status=1):\n",
      "STOP: TOTAL NO. of ITERATIONS REACHED LIMIT.\n",
      "\n",
      "Increase the number of iterations (max_iter) or scale the data as shown in:\n",
      "    https://scikit-learn.org/stable/modules/preprocessing.html\n",
      "Please also refer to the documentation for alternative solver options:\n",
      "    https://scikit-learn.org/stable/modules/linear_model.html#logistic-regression\n",
      "  n_iter_i = _check_optimize_result(\n"
     ]
    },
    {
     "name": "stdout",
     "output_type": "stream",
     "text": [
      "C=10 0.842 +- 0.007\n"
     ]
    }
   ],
   "source": [
    "n_splits = 5\n",
    "\n",
    "for C in tqdm([0.001, 0.01, 0.1, 0.5, 1, 5, 10]):\n",
    "    kfold = KFold(n_splits=n_splits, shuffle=True, random_state=1)\n",
    "\n",
    "    scores = []\n",
    "\n",
    "    for train_idx, val_idx in kfold.split(df_full_train):\n",
    "        # the k-fold split uses index to shuffle the data\n",
    "        df_train = df_full_train.iloc[train_idx]\n",
    "        df_val = df_full_train.iloc[val_idx]\n",
    "        \n",
    "        # y values come from dataset\n",
    "        y_train = df_train.churn.values\n",
    "        y_val = df_val.churn.values\n",
    "        \n",
    "        # training and predicting\n",
    "        dv, model = train(df_train, y_train, C=C)\n",
    "        y_pred = predict(df_val, dv, model)\n",
    "        \n",
    "        # AUC\n",
    "        auc = roc_auc_score(y_val, y_pred)\n",
    "        scores.append(auc)\n",
    "\n",
    "    print('C=%s %.3f +- %.3f' % (C, np.mean(scores), np.std(scores)))"
   ]
  },
  {
   "cell_type": "code",
   "execution_count": 137,
   "id": "fbc6a357",
   "metadata": {
    "execution": {
     "iopub.execute_input": "2021-09-30T07:20:44.963055Z",
     "iopub.status.busy": "2021-09-30T07:20:44.960459Z",
     "iopub.status.idle": "2021-09-30T07:20:44.966259Z",
     "shell.execute_reply": "2021-09-30T07:20:44.966692Z",
     "shell.execute_reply.started": "2021-09-30T02:48:51.99659Z"
    },
    "papermill": {
     "duration": 0.099722,
     "end_time": "2021-09-30T07:20:44.966884",
     "exception": false,
     "start_time": "2021-09-30T07:20:44.867162",
     "status": "completed"
    },
    "tags": []
   },
   "outputs": [
    {
     "data": {
      "text/plain": [
       "[0.8446789804617281,\n",
       " 0.8451591676599126,\n",
       " 0.8333774834437087,\n",
       " 0.8347888821385174,\n",
       " 0.851738257349942]"
      ]
     },
     "execution_count": 137,
     "metadata": {},
     "output_type": "execute_result"
    }
   ],
   "source": [
    "scores"
   ]
  },
  {
   "cell_type": "code",
   "execution_count": 138,
   "id": "ed4911f5",
   "metadata": {
    "execution": {
     "iopub.execute_input": "2021-09-30T07:20:45.194110Z",
     "iopub.status.busy": "2021-09-30T07:20:45.154462Z",
     "iopub.status.idle": "2021-09-30T07:20:45.734604Z",
     "shell.execute_reply": "2021-09-30T07:20:45.736035Z",
     "shell.execute_reply.started": "2021-09-30T02:48:52.007964Z"
    },
    "papermill": {
     "duration": 0.678826,
     "end_time": "2021-09-30T07:20:45.736318",
     "exception": false,
     "start_time": "2021-09-30T07:20:45.057492",
     "status": "completed"
    },
    "tags": []
   },
   "outputs": [
    {
     "data": {
      "text/plain": [
       "0.8583788336745859"
      ]
     },
     "execution_count": 138,
     "metadata": {},
     "output_type": "execute_result"
    }
   ],
   "source": [
    "dv, model = train(df_full_train, df_full_train.churn.values, C=1.0)\n",
    "y_pred = predict(df_test, dv, model)\n",
    "\n",
    "auc = roc_auc_score(y_test, y_pred)\n",
    "auc"
   ]
  },
  {
   "cell_type": "markdown",
   "id": "5caa7558",
   "metadata": {
    "papermill": {
     "duration": 0.090449,
     "end_time": "2021-09-30T07:20:45.966900",
     "exception": false,
     "start_time": "2021-09-30T07:20:45.876451",
     "status": "completed"
    },
    "tags": []
   },
   "source": [
    "## 4.8 Summary\n",
    "\n",
    "* Metric - a single number that describes the performance of a model\n",
    "* Accuracy - fraction of correct answers; sometimes misleading \n",
    "* Precision and recall are less misleading when we have class inbalance\n",
    "* ROC Curve - a way to evaluate the performance at all thresholds; okay to use with imbalance\n",
    "* K-Fold CV - more reliable estimate for performance (mean + std)"
   ]
  },
  {
   "cell_type": "markdown",
   "id": "bfac4123",
   "metadata": {
    "papermill": {
     "duration": 0.091,
     "end_time": "2021-09-30T07:20:46.148915",
     "exception": false,
     "start_time": "2021-09-30T07:20:46.057915",
     "status": "completed"
    },
    "tags": []
   },
   "source": [
    "## 4.9 Explore more\n",
    "\n",
    "* Check the precision and recall of the dummy classifier that always predict \"FALSE\"\n",
    "* F1 score = 2 * P * R / (P + R)\n",
    "* Evaluate precision and recall at different thresholds, plot P vs R - this way you'll get the precision/recall curve (similar to ROC curve)\n",
    "* Area under the PR curve is also a useful metric\n",
    "\n",
    "Other projects:\n",
    "\n",
    "* Calculate the metrics for datasets from the previous week"
   ]
  }
 ],
 "metadata": {
  "kernelspec": {
   "display_name": "Python 3",
   "language": "python",
   "name": "python3"
  },
  "language_info": {
   "codemirror_mode": {
    "name": "ipython",
    "version": 3
   },
   "file_extension": ".py",
   "mimetype": "text/x-python",
   "name": "python",
   "nbconvert_exporter": "python",
   "pygments_lexer": "ipython3",
   "version": "3.10.1"
  },
  "papermill": {
   "default_parameters": {},
   "duration": 63.870541,
   "end_time": "2021-09-30T07:20:47.786087",
   "environment_variables": {},
   "exception": null,
   "input_path": "__notebook__.ipynb",
   "output_path": "__notebook__.ipynb",
   "parameters": {},
   "start_time": "2021-09-30T07:19:43.915546",
   "version": "2.3.3"
  },
  "widgets": {
   "application/vnd.jupyter.widget-state+json": {
    "state": {
     "21c01d9f3d4445d19841931f37e82510": {
      "model_module": "@jupyter-widgets/base",
      "model_module_version": "1.2.0",
      "model_name": "LayoutModel",
      "state": {
       "_model_module": "@jupyter-widgets/base",
       "_model_module_version": "1.2.0",
       "_model_name": "LayoutModel",
       "_view_count": null,
       "_view_module": "@jupyter-widgets/base",
       "_view_module_version": "1.2.0",
       "_view_name": "LayoutView",
       "align_content": null,
       "align_items": null,
       "align_self": null,
       "border": null,
       "bottom": null,
       "display": null,
       "flex": null,
       "flex_flow": null,
       "grid_area": null,
       "grid_auto_columns": null,
       "grid_auto_flow": null,
       "grid_auto_rows": null,
       "grid_column": null,
       "grid_gap": null,
       "grid_row": null,
       "grid_template_areas": null,
       "grid_template_columns": null,
       "grid_template_rows": null,
       "height": null,
       "justify_content": null,
       "justify_items": null,
       "left": null,
       "margin": null,
       "max_height": null,
       "max_width": null,
       "min_height": null,
       "min_width": null,
       "object_fit": null,
       "object_position": null,
       "order": null,
       "overflow": null,
       "overflow_x": null,
       "overflow_y": null,
       "padding": null,
       "right": null,
       "top": null,
       "visibility": null,
       "width": null
      }
     },
     "292ad2fac4c7487fbca8e29a7c845084": {
      "model_module": "@jupyter-widgets/controls",
      "model_module_version": "1.5.0",
      "model_name": "ProgressStyleModel",
      "state": {
       "_model_module": "@jupyter-widgets/controls",
       "_model_module_version": "1.5.0",
       "_model_name": "ProgressStyleModel",
       "_view_count": null,
       "_view_module": "@jupyter-widgets/base",
       "_view_module_version": "1.2.0",
       "_view_name": "StyleView",
       "bar_color": null,
       "description_width": ""
      }
     },
     "2fc96aedaffe460f85bdc157d92f310d": {
      "model_module": "@jupyter-widgets/controls",
      "model_module_version": "1.5.0",
      "model_name": "HTMLModel",
      "state": {
       "_dom_classes": [],
       "_model_module": "@jupyter-widgets/controls",
       "_model_module_version": "1.5.0",
       "_model_name": "HTMLModel",
       "_view_count": null,
       "_view_module": "@jupyter-widgets/controls",
       "_view_module_version": "1.5.0",
       "_view_name": "HTMLView",
       "description": "",
       "description_tooltip": null,
       "layout": "IPY_MODEL_dd9a2dd6d88c4a119de6a355b725a3a6",
       "placeholder": "​",
       "style": "IPY_MODEL_c35948c57be54c858d3b49aefbc07820",
       "value": "100%"
      }
     },
     "400724e5b3b847c8a1fd2bea628fcf65": {
      "model_module": "@jupyter-widgets/base",
      "model_module_version": "1.2.0",
      "model_name": "LayoutModel",
      "state": {
       "_model_module": "@jupyter-widgets/base",
       "_model_module_version": "1.2.0",
       "_model_name": "LayoutModel",
       "_view_count": null,
       "_view_module": "@jupyter-widgets/base",
       "_view_module_version": "1.2.0",
       "_view_name": "LayoutView",
       "align_content": null,
       "align_items": null,
       "align_self": null,
       "border": null,
       "bottom": null,
       "display": null,
       "flex": null,
       "flex_flow": null,
       "grid_area": null,
       "grid_auto_columns": null,
       "grid_auto_flow": null,
       "grid_auto_rows": null,
       "grid_column": null,
       "grid_gap": null,
       "grid_row": null,
       "grid_template_areas": null,
       "grid_template_columns": null,
       "grid_template_rows": null,
       "height": null,
       "justify_content": null,
       "justify_items": null,
       "left": null,
       "margin": null,
       "max_height": null,
       "max_width": null,
       "min_height": null,
       "min_width": null,
       "object_fit": null,
       "object_position": null,
       "order": null,
       "overflow": null,
       "overflow_x": null,
       "overflow_y": null,
       "padding": null,
       "right": null,
       "top": null,
       "visibility": null,
       "width": null
      }
     },
     "a7a5fe6d938e4d2da758b06276c897f7": {
      "model_module": "@jupyter-widgets/controls",
      "model_module_version": "1.5.0",
      "model_name": "HTMLModel",
      "state": {
       "_dom_classes": [],
       "_model_module": "@jupyter-widgets/controls",
       "_model_module_version": "1.5.0",
       "_model_name": "HTMLModel",
       "_view_count": null,
       "_view_module": "@jupyter-widgets/controls",
       "_view_module_version": "1.5.0",
       "_view_name": "HTMLView",
       "description": "",
       "description_tooltip": null,
       "layout": "IPY_MODEL_21c01d9f3d4445d19841931f37e82510",
       "placeholder": "​",
       "style": "IPY_MODEL_fb0fba47ef2749afbcfaa2d49bcb80c8",
       "value": " 7/7 [00:23&lt;00:00,  3.38s/it]"
      }
     },
     "c35948c57be54c858d3b49aefbc07820": {
      "model_module": "@jupyter-widgets/controls",
      "model_module_version": "1.5.0",
      "model_name": "DescriptionStyleModel",
      "state": {
       "_model_module": "@jupyter-widgets/controls",
       "_model_module_version": "1.5.0",
       "_model_name": "DescriptionStyleModel",
       "_view_count": null,
       "_view_module": "@jupyter-widgets/base",
       "_view_module_version": "1.2.0",
       "_view_name": "StyleView",
       "description_width": ""
      }
     },
     "c614ea19eecd4e14b35157f04af4e642": {
      "model_module": "@jupyter-widgets/controls",
      "model_module_version": "1.5.0",
      "model_name": "FloatProgressModel",
      "state": {
       "_dom_classes": [],
       "_model_module": "@jupyter-widgets/controls",
       "_model_module_version": "1.5.0",
       "_model_name": "FloatProgressModel",
       "_view_count": null,
       "_view_module": "@jupyter-widgets/controls",
       "_view_module_version": "1.5.0",
       "_view_name": "ProgressView",
       "bar_style": "success",
       "description": "",
       "description_tooltip": null,
       "layout": "IPY_MODEL_fda209fbb6684d719ea20eb2ad6ea817",
       "max": 7,
       "min": 0,
       "orientation": "horizontal",
       "style": "IPY_MODEL_292ad2fac4c7487fbca8e29a7c845084",
       "value": 7
      }
     },
     "dd9a2dd6d88c4a119de6a355b725a3a6": {
      "model_module": "@jupyter-widgets/base",
      "model_module_version": "1.2.0",
      "model_name": "LayoutModel",
      "state": {
       "_model_module": "@jupyter-widgets/base",
       "_model_module_version": "1.2.0",
       "_model_name": "LayoutModel",
       "_view_count": null,
       "_view_module": "@jupyter-widgets/base",
       "_view_module_version": "1.2.0",
       "_view_name": "LayoutView",
       "align_content": null,
       "align_items": null,
       "align_self": null,
       "border": null,
       "bottom": null,
       "display": null,
       "flex": null,
       "flex_flow": null,
       "grid_area": null,
       "grid_auto_columns": null,
       "grid_auto_flow": null,
       "grid_auto_rows": null,
       "grid_column": null,
       "grid_gap": null,
       "grid_row": null,
       "grid_template_areas": null,
       "grid_template_columns": null,
       "grid_template_rows": null,
       "height": null,
       "justify_content": null,
       "justify_items": null,
       "left": null,
       "margin": null,
       "max_height": null,
       "max_width": null,
       "min_height": null,
       "min_width": null,
       "object_fit": null,
       "object_position": null,
       "order": null,
       "overflow": null,
       "overflow_x": null,
       "overflow_y": null,
       "padding": null,
       "right": null,
       "top": null,
       "visibility": null,
       "width": null
      }
     },
     "f60cb324e08b4864bdbf7b9b313f7a9b": {
      "model_module": "@jupyter-widgets/controls",
      "model_module_version": "1.5.0",
      "model_name": "HBoxModel",
      "state": {
       "_dom_classes": [],
       "_model_module": "@jupyter-widgets/controls",
       "_model_module_version": "1.5.0",
       "_model_name": "HBoxModel",
       "_view_count": null,
       "_view_module": "@jupyter-widgets/controls",
       "_view_module_version": "1.5.0",
       "_view_name": "HBoxView",
       "box_style": "",
       "children": [
        "IPY_MODEL_2fc96aedaffe460f85bdc157d92f310d",
        "IPY_MODEL_c614ea19eecd4e14b35157f04af4e642",
        "IPY_MODEL_a7a5fe6d938e4d2da758b06276c897f7"
       ],
       "layout": "IPY_MODEL_400724e5b3b847c8a1fd2bea628fcf65"
      }
     },
     "fb0fba47ef2749afbcfaa2d49bcb80c8": {
      "model_module": "@jupyter-widgets/controls",
      "model_module_version": "1.5.0",
      "model_name": "DescriptionStyleModel",
      "state": {
       "_model_module": "@jupyter-widgets/controls",
       "_model_module_version": "1.5.0",
       "_model_name": "DescriptionStyleModel",
       "_view_count": null,
       "_view_module": "@jupyter-widgets/base",
       "_view_module_version": "1.2.0",
       "_view_name": "StyleView",
       "description_width": ""
      }
     },
     "fda209fbb6684d719ea20eb2ad6ea817": {
      "model_module": "@jupyter-widgets/base",
      "model_module_version": "1.2.0",
      "model_name": "LayoutModel",
      "state": {
       "_model_module": "@jupyter-widgets/base",
       "_model_module_version": "1.2.0",
       "_model_name": "LayoutModel",
       "_view_count": null,
       "_view_module": "@jupyter-widgets/base",
       "_view_module_version": "1.2.0",
       "_view_name": "LayoutView",
       "align_content": null,
       "align_items": null,
       "align_self": null,
       "border": null,
       "bottom": null,
       "display": null,
       "flex": null,
       "flex_flow": null,
       "grid_area": null,
       "grid_auto_columns": null,
       "grid_auto_flow": null,
       "grid_auto_rows": null,
       "grid_column": null,
       "grid_gap": null,
       "grid_row": null,
       "grid_template_areas": null,
       "grid_template_columns": null,
       "grid_template_rows": null,
       "height": null,
       "justify_content": null,
       "justify_items": null,
       "left": null,
       "margin": null,
       "max_height": null,
       "max_width": null,
       "min_height": null,
       "min_width": null,
       "object_fit": null,
       "object_position": null,
       "order": null,
       "overflow": null,
       "overflow_x": null,
       "overflow_y": null,
       "padding": null,
       "right": null,
       "top": null,
       "visibility": null,
       "width": null
      }
     }
    },
    "version_major": 2,
    "version_minor": 0
   }
  }
 },
 "nbformat": 4,
 "nbformat_minor": 5
}
