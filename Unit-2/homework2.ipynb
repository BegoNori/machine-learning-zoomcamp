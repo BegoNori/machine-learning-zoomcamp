{
 "cells": [
  {
   "cell_type": "markdown",
   "metadata": {},
   "source": [
    "## Homework - Unit 2"
   ]
  },
  {
   "cell_type": "code",
   "execution_count": 8,
   "metadata": {},
   "outputs": [],
   "source": [
    "import pandas as pd\n",
    "import numpy as np\n",
    "import matplotlib.pyplot as plt\n",
    "import seaborn as sns\n",
    "import wget"
   ]
  },
  {
   "cell_type": "code",
   "execution_count": 3,
   "metadata": {},
   "outputs": [
    {
     "data": {
      "text/plain": [
       "'1.4.1'"
      ]
     },
     "execution_count": 3,
     "metadata": {},
     "output_type": "execute_result"
    }
   ],
   "source": [
    "pd.__version__"
   ]
  },
  {
   "cell_type": "markdown",
   "metadata": {},
   "source": [
    "### Preparing the dataset"
   ]
  },
  {
   "cell_type": "code",
   "execution_count": 4,
   "metadata": {},
   "outputs": [],
   "source": [
    "data = wget.download('https://raw.githubusercontent.com/alexeygrigorev/datasets/master/laptops.csv')"
   ]
  },
  {
   "cell_type": "code",
   "execution_count": 28,
   "metadata": {},
   "outputs": [
    {
     "data": {
      "text/html": [
       "<div>\n",
       "<style scoped>\n",
       "    .dataframe tbody tr th:only-of-type {\n",
       "        vertical-align: middle;\n",
       "    }\n",
       "\n",
       "    .dataframe tbody tr th {\n",
       "        vertical-align: top;\n",
       "    }\n",
       "\n",
       "    .dataframe thead th {\n",
       "        text-align: right;\n",
       "    }\n",
       "</style>\n",
       "<table border=\"1\" class=\"dataframe\">\n",
       "  <thead>\n",
       "    <tr style=\"text-align: right;\">\n",
       "      <th></th>\n",
       "      <th>Laptop</th>\n",
       "      <th>Status</th>\n",
       "      <th>Brand</th>\n",
       "      <th>Model</th>\n",
       "      <th>CPU</th>\n",
       "      <th>RAM</th>\n",
       "      <th>Storage</th>\n",
       "      <th>Storage type</th>\n",
       "      <th>GPU</th>\n",
       "      <th>Screen</th>\n",
       "      <th>Touch</th>\n",
       "      <th>Final Price</th>\n",
       "    </tr>\n",
       "  </thead>\n",
       "  <tbody>\n",
       "    <tr>\n",
       "      <th>0</th>\n",
       "      <td>ASUS ExpertBook B1 B1502CBA-EJ0436X Intel Core...</td>\n",
       "      <td>New</td>\n",
       "      <td>Asus</td>\n",
       "      <td>ExpertBook</td>\n",
       "      <td>Intel Core i5</td>\n",
       "      <td>8</td>\n",
       "      <td>512</td>\n",
       "      <td>SSD</td>\n",
       "      <td>NaN</td>\n",
       "      <td>15.6</td>\n",
       "      <td>No</td>\n",
       "      <td>1009.0</td>\n",
       "    </tr>\n",
       "    <tr>\n",
       "      <th>1</th>\n",
       "      <td>Alurin Go Start Intel Celeron N4020/8GB/256GB ...</td>\n",
       "      <td>New</td>\n",
       "      <td>Alurin</td>\n",
       "      <td>Go</td>\n",
       "      <td>Intel Celeron</td>\n",
       "      <td>8</td>\n",
       "      <td>256</td>\n",
       "      <td>SSD</td>\n",
       "      <td>NaN</td>\n",
       "      <td>15.6</td>\n",
       "      <td>No</td>\n",
       "      <td>299.0</td>\n",
       "    </tr>\n",
       "  </tbody>\n",
       "</table>\n",
       "</div>"
      ],
      "text/plain": [
       "                                              Laptop Status   Brand  \\\n",
       "0  ASUS ExpertBook B1 B1502CBA-EJ0436X Intel Core...    New    Asus   \n",
       "1  Alurin Go Start Intel Celeron N4020/8GB/256GB ...    New  Alurin   \n",
       "\n",
       "        Model            CPU  RAM  Storage Storage type  GPU  Screen Touch  \\\n",
       "0  ExpertBook  Intel Core i5    8      512          SSD  NaN    15.6    No   \n",
       "1          Go  Intel Celeron    8      256          SSD  NaN    15.6    No   \n",
       "\n",
       "   Final Price  \n",
       "0       1009.0  \n",
       "1        299.0  "
      ]
     },
     "execution_count": 28,
     "metadata": {},
     "output_type": "execute_result"
    }
   ],
   "source": [
    "df = pd.read_csv(data)\n",
    "df.head(2)"
   ]
  },
  {
   "cell_type": "code",
   "execution_count": 29,
   "metadata": {},
   "outputs": [],
   "source": [
    "df.columns = df.columns.str.lower().str.replace(' ', '_')"
   ]
  },
  {
   "cell_type": "markdown",
   "metadata": {},
   "source": [
    "### EDA"
   ]
  },
  {
   "cell_type": "code",
   "execution_count": 23,
   "metadata": {},
   "outputs": [
    {
     "data": {
      "text/plain": [
       "<AxesSubplot:xlabel='final_price', ylabel='Count'>"
      ]
     },
     "execution_count": 23,
     "metadata": {},
     "output_type": "execute_result"
    },
    {
     "data": {
      "image/png": "[encoded data removed]",
      "text/plain": [
       "<Figure size 432x288 with 1 Axes>"
      ]
     },
     "metadata": {
      "needs_background": "light"
     },
     "output_type": "display_data"
    }
   ],
   "source": [
    "sns.histplot(df.final_price, bins=50)"
   ]
  },
  {
   "cell_type": "markdown",
   "metadata": {},
   "source": [
    "The tail of 'final_variable' is not that long."
   ]
  },
  {
   "cell_type": "markdown",
   "metadata": {},
   "source": [
    "### Question 1\n",
    "There's one column with missing values. What is it?"
   ]
  },
  {
   "cell_type": "code",
   "execution_count": 30,
   "metadata": {},
   "outputs": [
    {
     "data": {
      "text/plain": [
       "laptop             0\n",
       "status             0\n",
       "brand              0\n",
       "model              0\n",
       "cpu                0\n",
       "ram                0\n",
       "storage            0\n",
       "storage_type      42\n",
       "gpu             1371\n",
       "screen             4\n",
       "touch              0\n",
       "final_price        0\n",
       "dtype: int64"
      ]
     },
     "execution_count": 30,
     "metadata": {},
     "output_type": "execute_result"
    }
   ],
   "source": [
    "df.isnull().sum()"
   ]
  },
  {
   "cell_type": "markdown",
   "metadata": {},
   "source": [
    "Answer: screen"
   ]
  },
  {
   "cell_type": "markdown",
   "metadata": {},
   "source": [
    "### Question 2\n",
    "What's the median (50% percentile) for variable 'ram'?"
   ]
  },
  {
   "cell_type": "code",
   "execution_count": 31,
   "metadata": {},
   "outputs": [
    {
     "data": {
      "text/plain": [
       "16.0"
      ]
     },
     "execution_count": 31,
     "metadata": {},
     "output_type": "execute_result"
    }
   ],
   "source": [
    "df.ram.median()"
   ]
  },
  {
   "cell_type": "markdown",
   "metadata": {},
   "source": [
    "Answer: 16"
   ]
  },
  {
   "cell_type": "markdown",
   "metadata": {},
   "source": [
    "### Prepare and split the dataset"
   ]
  },
  {
   "cell_type": "code",
   "execution_count": 32,
   "metadata": {},
   "outputs": [],
   "source": [
    "# shuffle the data\n",
    "n = len(df)\n",
    "idx = np.arange(n)\n",
    "\n",
    "np.random.seed(42)\n",
    "np.random.shuffle(idx)"
   ]
  },
  {
   "cell_type": "code",
   "execution_count": 33,
   "metadata": {},
   "outputs": [
    {
     "data": {
      "text/html": [
       "<div>\n",
       "<style scoped>\n",
       "    .dataframe tbody tr th:only-of-type {\n",
       "        vertical-align: middle;\n",
       "    }\n",
       "\n",
       "    .dataframe tbody tr th {\n",
       "        vertical-align: top;\n",
       "    }\n",
       "\n",
       "    .dataframe thead th {\n",
       "        text-align: right;\n",
       "    }\n",
       "</style>\n",
       "<table border=\"1\" class=\"dataframe\">\n",
       "  <thead>\n",
       "    <tr style=\"text-align: right;\">\n",
       "      <th></th>\n",
       "      <th>laptop</th>\n",
       "      <th>status</th>\n",
       "      <th>brand</th>\n",
       "      <th>model</th>\n",
       "      <th>cpu</th>\n",
       "      <th>ram</th>\n",
       "      <th>storage</th>\n",
       "      <th>storage_type</th>\n",
       "      <th>gpu</th>\n",
       "      <th>screen</th>\n",
       "      <th>touch</th>\n",
       "      <th>final_price</th>\n",
       "    </tr>\n",
       "  </thead>\n",
       "  <tbody>\n",
       "    <tr>\n",
       "      <th>2079</th>\n",
       "      <td>MSI Modern 15 A11SBU-620XES Intel Core i7-1165...</td>\n",
       "      <td>Refurbished</td>\n",
       "      <td>MSI</td>\n",
       "      <td>Modern</td>\n",
       "      <td>Intel Core i7</td>\n",
       "      <td>32</td>\n",
       "      <td>1000</td>\n",
       "      <td>SSD</td>\n",
       "      <td>MX 450</td>\n",
       "      <td>15.6</td>\n",
       "      <td>No</td>\n",
       "      <td>1123.29</td>\n",
       "    </tr>\n",
       "    <tr>\n",
       "      <th>668</th>\n",
       "      <td>Thomson Neo White Intel Celeron N4020/4GB/64GB...</td>\n",
       "      <td>New</td>\n",
       "      <td>Thomson</td>\n",
       "      <td>Neo</td>\n",
       "      <td>Intel Celeron</td>\n",
       "      <td>4</td>\n",
       "      <td>64</td>\n",
       "      <td>eMMC</td>\n",
       "      <td>NaN</td>\n",
       "      <td>14.1</td>\n",
       "      <td>No</td>\n",
       "      <td>201.05</td>\n",
       "    </tr>\n",
       "  </tbody>\n",
       "</table>\n",
       "</div>"
      ],
      "text/plain": [
       "                                                 laptop       status    brand  \\\n",
       "2079  MSI Modern 15 A11SBU-620XES Intel Core i7-1165...  Refurbished      MSI   \n",
       "668   Thomson Neo White Intel Celeron N4020/4GB/64GB...          New  Thomson   \n",
       "\n",
       "       model            cpu  ram  storage storage_type     gpu  screen touch  \\\n",
       "2079  Modern  Intel Core i7   32     1000          SSD  MX 450    15.6    No   \n",
       "668      Neo  Intel Celeron    4       64         eMMC     NaN    14.1    No   \n",
       "\n",
       "      final_price  \n",
       "2079      1123.29  \n",
       "668        201.05  "
      ]
     },
     "execution_count": 33,
     "metadata": {},
     "output_type": "execute_result"
    }
   ],
   "source": [
    "# slip the data in sets\n",
    "n_val = int(n * 0.2)\n",
    "n_test = int(n * 0.2)\n",
    "n_train = n - n_val - n_test\n",
    "\n",
    "df_train = df.iloc[idx[:n_train]]\n",
    "df_val = df.iloc[idx[n_train:n_train+n_val]]\n",
    "df_test = df.iloc[idx[n_train+n_val:]]\n",
    "\n",
    "df_train.head(2)"
   ]
  },
  {
   "cell_type": "code",
   "execution_count": 34,
   "metadata": {},
   "outputs": [],
   "source": [
    "df_train = df_train.reset_index(drop=True)\n",
    "df_val = df_val.reset_index(drop=True)\n",
    "df_test = df_test.reset_index(drop=True)"
   ]
  },
  {
   "cell_type": "code",
   "execution_count": 35,
   "metadata": {},
   "outputs": [],
   "source": [
    "y_train = df_train.final_price.values\n",
    "y_val = df_val.final_price.values\n",
    "y_test = df_test.final_price.values"
   ]
  },
  {
   "cell_type": "code",
   "execution_count": 36,
   "metadata": {},
   "outputs": [],
   "source": [
    "del df_train['final_price']\n",
    "del df_val['final_price']\n",
    "del df_test['final_price']"
   ]
  },
  {
   "cell_type": "markdown",
   "metadata": {},
   "source": [
    "#### Question 3\n",
    "We need to deal with missing values for the column from Q1.\\\n",
    "We have two options: fill it with 0 or with the mean of this variable.\\\n",
    "Try both options. For each, train a linear regression model without regularization using the code from the lessons.\\\n",
    "For computing the mean, use the training only!\\\n",
    "Use the validation dataset to evaluate the models and compare the RMSE of each option.\\\n",
    "Round the RMSE scores to 2 decimal digits using round(score, 2)\\\n",
    "Which option gives better RMSE?"
   ]
  },
  {
   "cell_type": "code",
   "execution_count": 40,
   "metadata": {},
   "outputs": [],
   "source": [
    "# columns we will use\n",
    "base = ['ram', 'storage', 'screen']"
   ]
  },
  {
   "cell_type": "code",
   "execution_count": 62,
   "metadata": {},
   "outputs": [],
   "source": [
    "# Functions from the lessons code\n",
    "\n",
    "def train_linear_regression(X, y):\n",
    "    ones = np.ones(X.shape[0])\n",
    "    X = np.column_stack([ones, X])\n",
    "\n",
    "    XTX = X.T.dot(X)\n",
    "    XTX_inv = np.linalg.inv(XTX)\n",
    "    w_full = XTX_inv.dot(X.T).dot(y)\n",
    "    \n",
    "    return w_full[0], w_full[1:]\n",
    "\n",
    "def rmse(y, y_pred):\n",
    "    se = (y - y_pred) ** 2\n",
    "    mse = se.mean()\n",
    "    return np.sqrt(mse)\n",
    "\n",
    "# prepare_X modified to choose filling option\n",
    "def prepare_X(df,fill):\n",
    "    df_num = df[base]\n",
    "    df_num = df_num.fillna(fill)\n",
    "    X = df_num.values\n",
    "    return X"
   ]
  },
  {
   "cell_type": "code",
   "execution_count": 54,
   "metadata": {},
   "outputs": [
    {
     "name": "stdout",
     "output_type": "stream",
     "text": [
      "Using 0 to fill NaNs:\n",
      "\n",
      "w0 = 676.8954853009992\n",
      "\n",
      "w = [ 43.70681555   0.86506867 -36.10399833]\n",
      "\n",
      "RMSE: 597.36\n"
     ]
    },
    {
     "data": {
      "text/plain": [
       "<matplotlib.legend.Legend at 0x16fb250e590>"
      ]
     },
     "execution_count": 54,
     "metadata": {},
     "output_type": "execute_result"
    },
    {
     "data": {
      "image/png": "[encoded data removed]",
      "text/plain": [
       "<Figure size 432x288 with 1 Axes>"
      ]
     },
     "metadata": {
      "needs_background": "light"
     },
     "output_type": "display_data"
    }
   ],
   "source": [
    "# Filling NaNs with 0\n",
    "\n",
    "# Training part:\n",
    "X_train = prepare_X(df_train, 0)\n",
    "w0, w = train_linear_regression(X_train, y_train)\n",
    "\n",
    "# Validation part:\n",
    "X_val = prepare_X(df_val, 0)\n",
    "y_pred = w0 + X_val.dot(w)\n",
    "\n",
    "print('Using 0 to fill NaNs:')\n",
    "print('')\n",
    "print('w0 =', w0)\n",
    "print('')\n",
    "print('w =', w)\n",
    "print('')\n",
    "print('RMSE:', round(rmse(y_val, y_pred), 2))\n",
    "\n",
    "sns.histplot(y_pred, label='prediction', color='red', alpha=0.5, bins=50)\n",
    "sns.histplot(y_val, label='target', color='blue',  alpha=0.5, bins=50)\n",
    "plt.legend()"
   ]
  },
  {
   "cell_type": "code",
   "execution_count": 53,
   "metadata": {},
   "outputs": [
    {
     "name": "stdout",
     "output_type": "stream",
     "text": [
      "Using mean to fill NaNs:\n",
      "\n",
      "w0 = 808.9159907343582\n",
      "\n",
      "w = [ 43.90774584   0.87135236 -45.18273312]\n",
      "\n",
      "RMSE: 600.27\n"
     ]
    },
    {
     "data": {
      "text/plain": [
       "<matplotlib.legend.Legend at 0x16fb39fa8f0>"
      ]
     },
     "execution_count": 53,
     "metadata": {},
     "output_type": "execute_result"
    },
    {
     "data": {
      "image/png": "[encoded data removed]",
      "text/plain": [
       "<Figure size 432x288 with 1 Axes>"
      ]
     },
     "metadata": {
      "needs_background": "light"
     },
     "output_type": "display_data"
    }
   ],
   "source": [
    "# Filling NaNs with mean\n",
    "\n",
    "# Training part:\n",
    "X_train = prepare_X(df_train, df_train.screen.mean())\n",
    "w0, w = train_linear_regression(X_train, y_train)\n",
    "\n",
    "# Validation part:\n",
    "X_val = prepare_X(df_val, df_train.screen.mean())\n",
    "y_pred = w0 + X_val.dot(w)\n",
    "\n",
    "print('Using mean to fill NaNs:')\n",
    "print('')\n",
    "print('w0 =', w0)\n",
    "print('')\n",
    "print('w =', w)\n",
    "print('')\n",
    "print('RMSE:', round(rmse(y_val, y_pred), 2))\n",
    "\n",
    "sns.histplot(y_pred, label='prediction', color='red', alpha=0.5, bins=50)\n",
    "sns.histplot(y_val, label='target', color='blue',  alpha=0.5, bins=50)\n",
    "plt.legend()"
   ]
  },
  {
   "cell_type": "markdown",
   "metadata": {},
   "source": [
    "Answer: RMSE using 0s is a little lower, therefore it is technically better for filling the NaNs. But the difference may not be significant."
   ]
  },
  {
   "cell_type": "markdown",
   "metadata": {},
   "source": [
    "### Question 4\n",
    "Now let's train a regularized linear regression.\\\n",
    "For this question, fill the NAs with 0.\\\n",
    "Try different values of r from this list: [0, 0.01, 0.1, 1, 5, 10, 100].\\\n",
    "Use RMSE to evaluate the model on the validation dataset.\\\n",
    "Round the RMSE scores to 2 decimal digits.\\\n",
    "Which r gives the best RMSE?"
   ]
  },
  {
   "cell_type": "code",
   "execution_count": 55,
   "metadata": {},
   "outputs": [],
   "source": [
    "def train_linear_regression_reg(X, y, r=0.001):\n",
    "    ones = np.ones(X.shape[0])\n",
    "    X = np.column_stack([ones, X])\n",
    "\n",
    "    XTX = X.T.dot(X)\n",
    "    XTX = XTX + r * np.eye(XTX.shape[0])\n",
    "\n",
    "    XTX_inv = np.linalg.inv(XTX)\n",
    "    w_full = XTX_inv.dot(X.T).dot(y)\n",
    "    \n",
    "    return w_full[0], w_full[1:]"
   ]
  },
  {
   "cell_type": "code",
   "execution_count": 56,
   "metadata": {},
   "outputs": [
    {
     "name": "stdout",
     "output_type": "stream",
     "text": [
      "0 676.8954853009992 597.36\n",
      "0.01 676.2736817211679 597.36\n",
      "0.1 670.7284836318768 597.35\n",
      "1 619.9030834112974 597.21\n",
      "5 463.77716971451275 597.01\n",
      "10 352.7971336770062 597.06\n",
      "100 66.92071440183614 597.9\n"
     ]
    }
   ],
   "source": [
    "for r in [0, 0.01, 0.1, 1, 5, 10, 100]:\n",
    "    X_train = prepare_X(df_train, 0)\n",
    "    w0, w = train_linear_regression_reg(X_train, y_train, r=r)\n",
    "\n",
    "    X_val = prepare_X(df_val, 0)\n",
    "    y_pred = w0 + X_val.dot(w)\n",
    "    score = rmse(y_val, y_pred)\n",
    "    \n",
    "    print(r, w0, round(score, 2))"
   ]
  },
  {
   "cell_type": "markdown",
   "metadata": {},
   "source": [
    "Answer: 5, then 10"
   ]
  },
  {
   "cell_type": "markdown",
   "metadata": {},
   "source": [
    "### Question 5\n",
    "We used seed 42 for splitting the data. Let's find out how selecting the seed influences our score.\\\n",
    "Try different seed values: [0, 1, 2, 3, 4, 5, 6, 7, 8, 9].\\\n",
    "For each seed, do the train/validation/test split with 60%/20%/20% distribution.\\\n",
    "Fill the missing values with 0 and train a model without regularization.\\\n",
    "For each seed, evaluate the model on the validation dataset and collect the RMSE scores.\\\n",
    "What's the standard deviation of all the scores? To compute the standard deviation, use np.std.\\\n",
    "Round the result to 3 decimal digits (round(std, 3))\\\n",
    "What's the value of std?"
   ]
  },
  {
   "cell_type": "code",
   "execution_count": 64,
   "metadata": {},
   "outputs": [
    {
     "name": "stdout",
     "output_type": "stream",
     "text": [
      "[565.4520868770992, 636.7985423056716, 588.9558697907979, 597.8148920012542, 571.9627915111046, 573.2383256618959, 647.3438328407311, 550.4398184485875, 587.333503616987, 576.1017929433077]\n",
      "\n",
      "std = 29.176\n"
     ]
    }
   ],
   "source": [
    "rmse_values = []\n",
    "\n",
    "for seed in [0, 1, 2, 3, 4, 5, 6, 7, 8, 9]:\n",
    "    # shuffle the data\n",
    "    n = len(df)\n",
    "    idx = np.arange(n)\n",
    "    np.random.seed(seed)\n",
    "    np.random.shuffle(idx)\n",
    "\n",
    "    # slip the data in sets\n",
    "    n_val = int(n * 0.2)\n",
    "    n_test = int(n * 0.2)\n",
    "    n_train = n - n_val - n_test\n",
    "\n",
    "    df_train = df.iloc[idx[:n_train]]\n",
    "    df_val = df.iloc[idx[n_train:n_train+n_val]]\n",
    "    df_test = df.iloc[idx[n_train+n_val:]]\n",
    "\n",
    "    df_train = df_train.reset_index(drop=True)\n",
    "    df_val = df_val.reset_index(drop=True)\n",
    "    df_test = df_test.reset_index(drop=True)\n",
    "\n",
    "    y_train = df_train.final_price.values\n",
    "    y_val = df_val.final_price.values\n",
    "    y_test = df_test.final_price.values\n",
    "\n",
    "    del df_train['final_price']\n",
    "    del df_val['final_price']\n",
    "    del df_test['final_price']\n",
    "\n",
    "    # Training part:\n",
    "    X_train = prepare_X(df_train, 0)\n",
    "    w0, w = train_linear_regression(X_train, y_train)\n",
    "\n",
    "    # Validation part:\n",
    "    X_val = prepare_X(df_val, 0)\n",
    "    y_pred = w0 + X_val.dot(w)\n",
    "\n",
    "    # Collect RMSEs\n",
    "    rmse_values.append(rmse(y_val, y_pred))\n",
    "\n",
    "print(rmse_values)\n",
    "print('')\n",
    "print('std =', round(np.std(rmse_values), 3))"
   ]
  },
  {
   "cell_type": "markdown",
   "metadata": {},
   "source": [
    "Answer: 29.176"
   ]
  },
  {
   "cell_type": "markdown",
   "metadata": {},
   "source": [
    "### Question 6\n",
    "Split the dataset like previously, use seed 9.\\\n",
    "Combine train and validation datasets.\\\n",
    "Fill the missing values with 0 and train a model with r=0.001.\\\n",
    "What's the RMSE on the test dataset?"
   ]
  },
  {
   "cell_type": "code",
   "execution_count": 65,
   "metadata": {},
   "outputs": [],
   "source": [
    "# shuffle the data\n",
    "n = len(df)\n",
    "idx = np.arange(n)\n",
    "np.random.seed(9)\n",
    "np.random.shuffle(idx)\n",
    "\n",
    "# slip the data in sets\n",
    "n_val = int(n * 0.2)\n",
    "n_test = int(n * 0.2)\n",
    "n_train = n - n_val - n_test\n",
    "\n",
    "df_train = df.iloc[idx[:n_train]]\n",
    "df_val = df.iloc[idx[n_train:n_train+n_val]]\n",
    "df_test = df.iloc[idx[n_train+n_val:]]\n",
    "\n",
    "df_train = df_train.reset_index(drop=True)\n",
    "df_val = df_val.reset_index(drop=True)\n",
    "df_test = df_test.reset_index(drop=True)\n",
    "\n",
    "y_train = df_train.final_price.values\n",
    "y_val = df_val.final_price.values\n",
    "y_test = df_test.final_price.values\n",
    "\n",
    "del df_train['final_price']\n",
    "del df_val['final_price']\n",
    "del df_test['final_price']"
   ]
  },
  {
   "cell_type": "code",
   "execution_count": 68,
   "metadata": {},
   "outputs": [],
   "source": [
    "# Combine train and validation datasets\n",
    "df_comb = pd.concat([df_train, df_val], axis=0)\n",
    "y_comb = np.concatenate([y_train, y_val])\n",
    "\n",
    "# Training part:\n",
    "X_comb = prepare_X(df_comb, 0)\n",
    "w0, w = train_linear_regression_reg(X_comb, y_comb, r=0.001)"
   ]
  },
  {
   "cell_type": "code",
   "execution_count": 70,
   "metadata": {},
   "outputs": [
    {
     "name": "stdout",
     "output_type": "stream",
     "text": [
      "RMSE:  608.61\n"
     ]
    }
   ],
   "source": [
    "# Validation part:\n",
    "X_test = prepare_X(df_test, 0)\n",
    "y_pred = w0 + X_test.dot(w)\n",
    "score = rmse(y_test, y_pred)\n",
    "    \n",
    "print('RMSE: ', round(score, 2))"
   ]
  },
  {
   "cell_type": "markdown",
   "metadata": {},
   "source": [
    "Answer: 608.6"
   ]
  }
 ],
 "metadata": {
  "kernelspec": {
   "display_name": "Python 3",
   "language": "python",
   "name": "python3"
  },
  "language_info": {
   "codemirror_mode": {
    "name": "ipython",
    "version": 3
   },
   "file_extension": ".py",
   "mimetype": "text/x-python",
   "name": "python",
   "nbconvert_exporter": "python",
   "pygments_lexer": "ipython3",
   "version": "3.10.1"
  }
 },
 "nbformat": 4,
 "nbformat_minor": 2
}
